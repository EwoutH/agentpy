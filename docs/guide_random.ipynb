{
 "cells": [
  {
   "cell_type": "markdown",
   "id": "american-aurora",
   "metadata": {},
   "source": [
    "# Random numbers and reproducibility"
   ]
  },
  {
   "cell_type": "markdown",
   "id": "prescribed-operation",
   "metadata": {},
   "source": [
    "Random and stochastic dynamics are an essential part of most agent-based models.\n",
    "In Python, the built-in library `random` provides a range of useful tools."
   ]
  },
  {
   "cell_type": "code",
   "execution_count": 1,
   "id": "heard-marshall",
   "metadata": {},
   "outputs": [],
   "source": [
    "import agentpy as ap\n",
    "import random"
   ]
  },
  {
   "cell_type": "markdown",
   "id": "sixth-default",
   "metadata": {},
   "source": [
    "To illustrate, let us build a model that generates a list of ten pseudo-random numbers:"
   ]
  },
  {
   "cell_type": "code",
   "execution_count": 2,
   "id": "decreased-longer",
   "metadata": {},
   "outputs": [],
   "source": [
    "class RandomModel(ap.Model):\n",
    "    \n",
    "    def setup(self):\n",
    "        self.random_numbers = [random.randint(0, 9) for _ in range(10)]\n",
    "        print(f\"Model {self.p.n} generated the numbers {self.random_numbers}\")"
   ]
  },
  {
   "cell_type": "markdown",
   "id": "single-second",
   "metadata": {},
   "source": [
    "Now if we run this model, we will get different numbers every time:"
   ]
  },
  {
   "cell_type": "code",
   "execution_count": 3,
   "id": "standing-rolling",
   "metadata": {},
   "outputs": [
    {
     "name": "stdout",
     "output_type": "stream",
     "text": [
      "Model 0 generated the numbers [2, 7, 7, 4, 2, 6, 4, 4, 1, 3]\n",
      "Model 1 generated the numbers [8, 6, 8, 6, 2, 6, 7, 9, 3, 9]\n"
     ]
    }
   ],
   "source": [
    "for i in range(2):\n",
    "    parameters = {'steps':0, 'n':i}\n",
    "    model = RandomModel(parameters)\n",
    "    results = model.run(display=False)"
   ]
  },
  {
   "cell_type": "markdown",
   "id": "catholic-aaron",
   "metadata": {},
   "source": [
    "If we want the results to be reproducible (meaning that we want the same random numbers to be generated in every run),\n",
    "we can define a parameter `seed` that will be used automatically to set a random seed at the beginning of each run:"
   ]
  },
  {
   "cell_type": "code",
   "execution_count": 4,
   "id": "entertaining-parts",
   "metadata": {},
   "outputs": [
    {
     "name": "stdout",
     "output_type": "stream",
     "text": [
      "Model 0 generated the numbers [2, 9, 1, 4, 1, 7, 7, 7, 6, 3]\n",
      "Model 1 generated the numbers [2, 9, 1, 4, 1, 7, 7, 7, 6, 3]\n"
     ]
    }
   ],
   "source": [
    "for i in range(2):\n",
    "    parameters = {'seed':1, 'steps':0, 'n':i}\n",
    "    model = RandomModel(parameters)\n",
    "    model.run(display=False)"
   ]
  },
  {
   "cell_type": "markdown",
   "id": "unable-saturn",
   "metadata": {},
   "source": [
    "We can further create seperate random number generators for each object,\n",
    "with their seeds still being reproducible between runs."
   ]
  },
  {
   "cell_type": "code",
   "execution_count": 5,
   "id": "optimum-assembly",
   "metadata": {},
   "outputs": [
    {
     "name": "stdout",
     "output_type": "stream",
     "text": [
      "Model 0:\n",
      "RandomAgent (Obj 1) has the numbers [8, 7, 0, 1, 2, 3, 9, 4, 5, 0]\n",
      "RandomAgent (Obj 2) has the numbers [8, 1, 4, 6, 6, 3, 4, 3, 5, 1]\n",
      "\n",
      "Model 1:\n",
      "RandomAgent (Obj 1) has the numbers [8, 7, 0, 1, 2, 3, 9, 4, 5, 0]\n",
      "RandomAgent (Obj 2) has the numbers [8, 1, 4, 6, 6, 3, 4, 3, 5, 1]\n",
      "\n"
     ]
    }
   ],
   "source": [
    "class RandomAgent(ap.Agent):\n",
    "    \n",
    "    def setup(self):\n",
    "        self.random = random.Random(model.random.getrandbits(128))\n",
    "        self.random_numbers = [self.random.randint(0, 9) for _ in range(10)]\n",
    "        print(f\"{self} has the numbers {self.random_numbers}\")\n",
    "        \n",
    "class RandomModel(ap.Model):\n",
    "    \n",
    "    def setup(self):\n",
    "        self.random = random.Random(self.p.seed)\n",
    "        print(f\"Model {self.p.n}:\")\n",
    "        self.add_agents(2, RandomAgent)\n",
    "        print(\"\")\n",
    "\n",
    "for i in range(2):\n",
    "    parameters = {'seed': 1, 'steps':0, 'n':i}\n",
    "    model = RandomModel2(parameters)\n",
    "    results = model.run(display=False)"
   ]
  },
  {
   "cell_type": "markdown",
   "id": "existing-adaptation",
   "metadata": {},
   "source": [
    "Alternatively, we could also have each agent start from the same seed:"
   ]
  },
  {
   "cell_type": "code",
   "execution_count": 6,
   "id": "horizontal-softball",
   "metadata": {},
   "outputs": [
    {
     "name": "stdout",
     "output_type": "stream",
     "text": [
      "Model 0:\n",
      "RandomAgent2 (Obj 1) has the numbers [2, 9, 1, 4, 1, 7, 7, 7, 6, 3]\n",
      "RandomAgent2 (Obj 2) has the numbers [2, 9, 1, 4, 1, 7, 7, 7, 6, 3]\n",
      "\n",
      "Model 1:\n",
      "RandomAgent2 (Obj 1) has the numbers [2, 9, 1, 4, 1, 7, 7, 7, 6, 3]\n",
      "RandomAgent2 (Obj 2) has the numbers [2, 9, 1, 4, 1, 7, 7, 7, 6, 3]\n",
      "\n"
     ]
    }
   ],
   "source": [
    "class RandomAgent2(ap.Agent):\n",
    "    \n",
    "    def setup(self):\n",
    "        self.random = random.Random(self.p.seed)\n",
    "        self.random_numbers = [self.random.randint(0, 9) for _ in range(10)]\n",
    "        print(f\"{self} has the numbers {self.random_numbers}\")\n",
    "        \n",
    "class RandomModel2(ap.Model):\n",
    "    \n",
    "    def setup(self):\n",
    "        self.random = random.Random(self.p.seed)\n",
    "        print(f\"Model {self.p.n}:\")\n",
    "        self.add_agents(2, RandomAgent2)\n",
    "        print(\"\")\n",
    "\n",
    "for i in range(2):\n",
    "    parameters = {'seed': 1, 'steps':0, 'n':i}\n",
    "    model = RandomModel2(parameters)\n",
    "    results = model.run(display=False)"
   ]
  },
  {
   "cell_type": "markdown",
   "id": "mounted-charter",
   "metadata": {},
   "source": [
    "Final notes:\n",
    "\n",
    "- Random number generators can also be passed to the methods `AgentList.shuffle()` and `AgentList.random()`.\n",
    "- The numbers in this document are pseudo-random, not truly random (more info below).\n",
    "\n",
    "Further information:\n",
    "\n",
    "- Random number generation in Python: https://realpython.com/python-random/\n",
    "- Pseudo-random numbers: https://en.wikipedia.org/wiki/Pseudorandom_number_generator\n",
    "- What is random: https://www.youtube.com/watch?v=9rIy0xY99a0"
   ]
  },
  {
   "cell_type": "code",
   "execution_count": null,
   "id": "higher-malaysia",
   "metadata": {},
   "outputs": [],
   "source": []
  }
 ],
 "metadata": {
  "kernelspec": {
   "display_name": "Python 3",
   "language": "python",
   "name": "python3"
  },
  "language_info": {
   "codemirror_mode": {
    "name": "ipython",
    "version": 3
   },
   "file_extension": ".py",
   "mimetype": "text/x-python",
   "name": "python",
   "nbconvert_exporter": "python",
   "pygments_lexer": "ipython3",
   "version": "3.8.5"
  }
 },
 "nbformat": 4,
 "nbformat_minor": 5
}

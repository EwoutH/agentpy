{
 "cells": [
  {
   "cell_type": "markdown",
   "id": "american-jamaica",
   "metadata": {},
   "source": [
    "# Stochastic processes and reproducibility"
   ]
  },
  {
   "cell_type": "raw",
   "id": "right-blank",
   "metadata": {
    "raw_mimetype": "text/restructuredtext"
   },
   "source": [
    "Random numbers and stochastic processes are essential to many agent-based models.\n",
    "In Python, we can use the pseudo-random number generator from the built-in library :obj:`random`.\n",
    "\n",
    "Pseudo-random means that this module generates numbers in a sequence that appears random but is actually deterministic, based on an initial seed value.\n",
    "In other words, the generator will produce the same pseudo-random sequence over multiple runs if it is given the same seed at the beginning.\n",
    "We can define this seed to receive reproducible results from a model with stochastic processes."
   ]
  },
  {
   "cell_type": "markdown",
   "id": "boxed-begin",
   "metadata": {},
   "source": [
    "## Generating random numbers"
   ]
  },
  {
   "cell_type": "code",
   "execution_count": 1,
   "id": "religious-finish",
   "metadata": {},
   "outputs": [],
   "source": [
    "import agentpy as ap\n",
    "import random"
   ]
  },
  {
   "cell_type": "markdown",
   "id": "stock-lover",
   "metadata": {},
   "source": [
    "To illustrate, let us define a model that generates a list of ten pseudo-random numbers:"
   ]
  },
  {
   "cell_type": "code",
   "execution_count": 2,
   "id": "referenced-geography",
   "metadata": {},
   "outputs": [],
   "source": [
    "class RandomModel(ap.Model):\n",
    "    \n",
    "    def setup(self):\n",
    "        self.random_numbers = [random.randint(0, 9) for _ in range(10)]\n",
    "        print(f\"Model {self.p.n} generated the numbers {self.random_numbers}\")"
   ]
  },
  {
   "cell_type": "markdown",
   "id": "clear-pierre",
   "metadata": {},
   "source": [
    "Now if we run this model multiple times, we will get a different series of numbers:"
   ]
  },
  {
   "cell_type": "code",
   "execution_count": 3,
   "id": "subjective-interim",
   "metadata": {},
   "outputs": [
    {
     "name": "stdout",
     "output_type": "stream",
     "text": [
      "Model 0 generated the numbers [9, 3, 3, 8, 8, 0, 1, 9, 4, 7]\n",
      "Model 1 generated the numbers [0, 5, 9, 4, 6, 5, 3, 2, 2, 0]\n"
     ]
    }
   ],
   "source": [
    "for i in range(2):\n",
    "    parameters = {'steps':0, 'n':i}\n",
    "    model = RandomModel(parameters)\n",
    "    results = model.run(display=False)"
   ]
  },
  {
   "cell_type": "raw",
   "id": "pacific-reminder",
   "metadata": {
    "raw_mimetype": "text/restructuredtext"
   },
   "source": [
    "If we want the results to be reproducible, \n",
    "we can define a parameter :attr:`seed` that will be used automatically at the beginning of :func:`Model.run`.\n",
    "Now, we get the same series of numbers:"
   ]
  },
  {
   "cell_type": "code",
   "execution_count": 4,
   "id": "initial-extreme",
   "metadata": {},
   "outputs": [
    {
     "name": "stdout",
     "output_type": "stream",
     "text": [
      "Model 0 generated the numbers [2, 9, 1, 4, 1, 7, 7, 7, 6, 3]\n",
      "Model 1 generated the numbers [2, 9, 1, 4, 1, 7, 7, 7, 6, 3]\n"
     ]
    }
   ],
   "source": [
    "for i in range(2):\n",
    "    parameters = {'seed':1, 'steps':0, 'n':i}\n",
    "    model = RandomModel(parameters)\n",
    "    model.run(display=False)"
   ]
  },
  {
   "cell_type": "markdown",
   "id": "specialized-genius",
   "metadata": {},
   "source": [
    "## Using multiple generators"
   ]
  },
  {
   "cell_type": "raw",
   "id": "compact-surgeon",
   "metadata": {
    "raw_mimetype": "text/restructuredtext"
   },
   "source": [
    "The automatic use of the :attr:`seed` parameter calls the method :func:`random.seed`, which affects the default number generator that is created as a hidden instance by the :obj:`random` module.\n",
    "For more advanced applications, we can create seperate generators for each object, using :class:`random.Random`.\n",
    "We can ensure that the seeds of each object follow a controlled pseudo-random sequence by using also using seperate generator in the main model.\n",
    "Note that we use a different parameter name `model_seed` to avoid the automatic use of the parameter :attr:`seed` in this case."
   ]
  },
  {
   "cell_type": "code",
   "execution_count": 5,
   "id": "polished-orbit",
   "metadata": {},
   "outputs": [
    {
     "name": "stdout",
     "output_type": "stream",
     "text": [
      "Model 0:\n",
      "RandomAgent2 (Obj 1) generated the numbers [8, 7, 0, 1, 2, 3, 9, 4, 5, 0]\n",
      "RandomAgent2 (Obj 2) generated the numbers [8, 1, 4, 6, 6, 3, 4, 3, 5, 1]\n",
      "\n",
      "Model 1:\n",
      "RandomAgent2 (Obj 1) generated the numbers [8, 7, 0, 1, 2, 3, 9, 4, 5, 0]\n",
      "RandomAgent2 (Obj 2) generated the numbers [8, 1, 4, 6, 6, 3, 4, 3, 5, 1]\n",
      "\n"
     ]
    }
   ],
   "source": [
    "class RandomAgent2(ap.Agent):\n",
    "    \n",
    "    def setup(self):\n",
    "        seed = model.seed_generator.getrandbits(128)  # Get seed from model\n",
    "        self.random = random.Random(seed)  # Create generator for this agent\n",
    "        self.random_numbers = [self.random.randint(0, 9) for _ in range(10)]\n",
    "        print(f\"{self} generated the numbers {self.random_numbers}\")\n",
    "        \n",
    "class RandomModel2(ap.Model):\n",
    "    \n",
    "    def setup(self):\n",
    "        self.seed_generator = random.Random(self.p.model_seed)\n",
    "        self.add_agents(2, RandomAgent2)\n",
    "\n",
    "for i in range(2):\n",
    "    print(f\"Model {i}:\")\n",
    "    parameters = {'model_seed': 1, 'steps': 0}\n",
    "    model = RandomModel2(parameters)\n",
    "    results = model.run(display=False)\n",
    "    print()"
   ]
  },
  {
   "cell_type": "markdown",
   "id": "stuck-escape",
   "metadata": {},
   "source": [
    "Alternatively, we could also have each agent start from the same seed:"
   ]
  },
  {
   "cell_type": "code",
   "execution_count": 6,
   "id": "expected-slovenia",
   "metadata": {},
   "outputs": [
    {
     "name": "stdout",
     "output_type": "stream",
     "text": [
      "\n",
      "Model 0:\n",
      "RandomAgent3 (Obj 1) generated the numbers [2, 9, 1, 4, 1, 7, 7, 7, 6, 3]\n",
      "RandomAgent3 (Obj 2) generated the numbers [2, 9, 1, 4, 1, 7, 7, 7, 6, 3]\n",
      "\n",
      "Model 1:\n",
      "RandomAgent3 (Obj 1) generated the numbers [2, 9, 1, 4, 1, 7, 7, 7, 6, 3]\n",
      "RandomAgent3 (Obj 2) generated the numbers [2, 9, 1, 4, 1, 7, 7, 7, 6, 3]\n"
     ]
    }
   ],
   "source": [
    "class RandomAgent3(ap.Agent):\n",
    "    \n",
    "    def setup(self):\n",
    "        self.random = random.Random(self.p.agent_seed)\n",
    "        self.random_numbers = [self.random.randint(0, 9) for _ in range(10)]\n",
    "        print(f\"{self} generated the numbers {self.random_numbers}\")\n",
    "        \n",
    "class RandomModel3(ap.Model):\n",
    "    \n",
    "    def setup(self):\n",
    "        self.add_agents(2, RandomAgent3)\n",
    "        \n",
    "for i in range(2):\n",
    "    print(f\"\\nModel {i}:\")\n",
    "    parameters = {'agent_seed': 1, 'steps':0, 'n':i}\n",
    "    model = RandomModel3(parameters)\n",
    "    results = model.run(display=False)"
   ]
  },
  {
   "cell_type": "markdown",
   "id": "offensive-production",
   "metadata": {},
   "source": [
    "## Modeling stochastic processes"
   ]
  },
  {
   "cell_type": "markdown",
   "id": "bulgarian-breed",
   "metadata": {},
   "source": [
    "This section presents some stochastic operations that are often used in agent-based models. To start, we prepare a generic model with ten agents:"
   ]
  },
  {
   "cell_type": "code",
   "execution_count": 7,
   "id": "potential-investor",
   "metadata": {},
   "outputs": [
    {
     "data": {
      "text/plain": [
       "AgentList [10 agents]"
      ]
     },
     "execution_count": 7,
     "metadata": {},
     "output_type": "execute_result"
    }
   ],
   "source": [
    "model = ap.Model()\n",
    "agents = model.add_agents(10)\n",
    "agents"
   ]
  },
  {
   "cell_type": "markdown",
   "id": "handy-technician",
   "metadata": {},
   "source": [
    "If we look at the agent's ids, we see that they have been created in order:"
   ]
  },
  {
   "cell_type": "code",
   "execution_count": 8,
   "id": "opening-zambia",
   "metadata": {},
   "outputs": [
    {
     "data": {
      "text/plain": [
       "AttrList of attribute 'id': [1, 2, 3, 4, 5, 6, 7, 8, 9, 10]"
      ]
     },
     "execution_count": 8,
     "metadata": {},
     "output_type": "execute_result"
    }
   ],
   "source": [
    "agents.id"
   ]
  },
  {
   "cell_type": "raw",
   "id": "fancy-strength",
   "metadata": {
    "raw_mimetype": "text/restructuredtext"
   },
   "source": [
    "We can shuffle this list with :func:`AgentList.shuffle`:"
   ]
  },
  {
   "cell_type": "code",
   "execution_count": 9,
   "id": "foreign-particle",
   "metadata": {},
   "outputs": [
    {
     "data": {
      "text/plain": [
       "AttrList of attribute 'id': [5, 10, 3, 9, 6, 4, 7, 1, 8, 2]"
      ]
     },
     "execution_count": 9,
     "metadata": {},
     "output_type": "execute_result"
    }
   ],
   "source": [
    "agents.shuffle().id"
   ]
  },
  {
   "cell_type": "raw",
   "id": "regional-table",
   "metadata": {
    "raw_mimetype": "text/restructuredtext"
   },
   "source": [
    "Or create a random subset with :func:`AgentList.random`:"
   ]
  },
  {
   "cell_type": "code",
   "execution_count": 10,
   "id": "thick-plumbing",
   "metadata": {},
   "outputs": [
    {
     "data": {
      "text/plain": [
       "AttrList of attribute 'id': [6, 9, 10, 3, 5]"
      ]
     },
     "execution_count": 10,
     "metadata": {},
     "output_type": "execute_result"
    }
   ],
   "source": [
    "agents.random(5).id"
   ]
  },
  {
   "cell_type": "raw",
   "id": "floral-movie",
   "metadata": {
    "raw_mimetype": "text/restructuredtext"
   },
   "source": [
    "Both :func:`AgentList.shuffle` and :func:`AgentList.random` can take a custom generator as an argument:"
   ]
  },
  {
   "cell_type": "code",
   "execution_count": 11,
   "id": "incorporated-milan",
   "metadata": {},
   "outputs": [
    {
     "name": "stdout",
     "output_type": "stream",
     "text": [
      "AttrList of attribute 'id': [3, 10, 6, 5, 9]\n",
      "AttrList of attribute 'id': [3, 10, 6, 5, 9]\n"
     ]
    }
   ],
   "source": [
    "for _ in range(2):\n",
    "    custom_generator = random.Random(1)\n",
    "    print(agents.random(5, custom_generator).id)"
   ]
  },
  {
   "cell_type": "raw",
   "id": "incorporated-participant",
   "metadata": {
    "raw_mimetype": "text/restructuredtext"
   },
   "source": [
    "Note that the above selection is without repetition, i.e. every agent can only be selected once.\n",
    "Outside these built-in functions of agentpy, there are many other tools that can be used for stochastic processes.\n",
    "For example, we can use the methods :func:`random.choices` to make a selection with repetition and probability weights. \n",
    "In the following example, agents with a higher id are more likely to be chosen:"
   ]
  },
  {
   "cell_type": "code",
   "execution_count": 12,
   "id": "annoying-algorithm",
   "metadata": {},
   "outputs": [],
   "source": [
    "choices = random.choices(agents, k=5, weights=agents.id)"
   ]
  },
  {
   "cell_type": "raw",
   "id": "central-programmer",
   "metadata": {
    "raw_mimetype": "text/restructuredtext"
   },
   "source": [
    "If needed, the resulting list from such selections can be converted back into an :class:`AgentList`:"
   ]
  },
  {
   "cell_type": "code",
   "execution_count": 13,
   "id": "solid-trailer",
   "metadata": {},
   "outputs": [
    {
     "data": {
      "text/plain": [
       "AttrList of attribute 'id': [5, 4, 5, 8, 7]"
      ]
     },
     "execution_count": 13,
     "metadata": {},
     "output_type": "execute_result"
    }
   ],
   "source": [
    "ap.AgentList(choices).id"
   ]
  },
  {
   "cell_type": "markdown",
   "id": "metric-reason",
   "metadata": {},
   "source": [
    "## Further reading"
   ]
  },
  {
   "cell_type": "markdown",
   "id": "applied-montreal",
   "metadata": {},
   "source": [
    "- Random number generation in Python:  \n",
    "  https://realpython.com/python-random/\n",
    "- Stochasticity in agent-based models:  \n",
    "  http://www2.econ.iastate.edu/tesfatsi/ace.htm#Stochasticity\n",
    "- Pseudo-random number generators:  \n",
    "  https://en.wikipedia.org/wiki/Pseudorandom_number_generator\n",
    "- What is random:  \n",
    "  https://www.youtube.com/watch?v=9rIy0xY99a0"
   ]
  }
 ],
 "metadata": {
  "kernelspec": {
   "display_name": "Python 3",
   "language": "python",
   "name": "python3"
  },
  "language_info": {
   "codemirror_mode": {
    "name": "ipython",
    "version": 3
   },
   "file_extension": ".py",
   "mimetype": "text/x-python",
   "name": "python",
   "nbconvert_exporter": "python",
   "pygments_lexer": "ipython3",
   "version": "3.8.5"
  },
  "toc-autonumbering": false,
  "toc-showcode": false,
  "toc-showmarkdowntxt": false
 },
 "nbformat": 4,
 "nbformat_minor": 5
}

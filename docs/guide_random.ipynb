{
 "cells": [
  {
   "cell_type": "markdown",
   "id": "loaded-forth",
   "metadata": {},
   "source": [
    "# Stochastic processes and reproducibility"
   ]
  },
  {
   "cell_type": "raw",
   "id": "outside-decision",
   "metadata": {
    "raw_mimetype": "text/restructuredtext"
   },
   "source": [
    "Random numbers and stochastic processes are essential to many agent-based models.\n",
    "Agentpy models have two internal pseudo-random number generators:\n",
    "\n",
    "- :obj:`Model.random` is an instance of :class:`random.Random` \n",
    "- :obj:`Model.nprandom` is an isntance of :class:`numpy.random.Generator`\n",
    "\n",
    "Pseudo-random means that this module generates numbers in a sequence that appears random but is actually deterministic, based on an initial seed value.\n",
    "In other words, the generator will produce the same pseudo-random sequence over multiple runs if it is given the same seed at the beginning.\n",
    "We can define this seed to receive reproducible results from a model with stochastic processes."
   ]
  },
  {
   "cell_type": "markdown",
   "id": "alternate-insurance",
   "metadata": {},
   "source": [
    "## Generating random numbers"
   ]
  },
  {
   "cell_type": "code",
   "execution_count": 18,
   "id": "muslim-colors",
   "metadata": {},
   "outputs": [],
   "source": [
    "import agentpy as ap\n",
    "import numpy as np\n",
    "import random"
   ]
  },
  {
   "cell_type": "markdown",
   "id": "intimate-jackson",
   "metadata": {},
   "source": [
    "To illustrate, let us define a model that generates a list of ten pseudo-random numbers:"
   ]
  },
  {
   "cell_type": "code",
   "execution_count": 10,
   "id": "asian-addiction",
   "metadata": {},
   "outputs": [],
   "source": [
    "class RandomModel(ap.Model):\n",
    "    \n",
    "    def setup(self):\n",
    "        self.random_numbers = [self.random.randint(0, 9) for _ in range(10)]\n",
    "        print(f\"Model {self.p.n} generated the numbers {self.random_numbers}\")"
   ]
  },
  {
   "cell_type": "markdown",
   "id": "fifth-electricity",
   "metadata": {},
   "source": [
    "Now if we run this model multiple times, we will get a different series of numbers:"
   ]
  },
  {
   "cell_type": "code",
   "execution_count": 11,
   "id": "adjacent-construction",
   "metadata": {},
   "outputs": [
    {
     "name": "stdout",
     "output_type": "stream",
     "text": [
      "Model 0 generated the numbers [9, 4, 7, 7, 5, 5, 8, 2, 9, 6]\n",
      "Model 1 generated the numbers [2, 9, 9, 1, 1, 1, 6, 9, 8, 9]\n"
     ]
    }
   ],
   "source": [
    "for i in range(2):\n",
    "    parameters = {'steps':0, 'n':i}\n",
    "    model = RandomModel(parameters)\n",
    "    results = model.run(display=False)"
   ]
  },
  {
   "cell_type": "raw",
   "id": "surface-faith",
   "metadata": {
    "raw_mimetype": "text/restructuredtext"
   },
   "source": [
    "If we want the results to be reproducible, \n",
    "we can define a parameter :attr:`seed` that will be used automatically at the beginning of :func:`Model.run`.\n",
    "Now, we get the same series of numbers:"
   ]
  },
  {
   "cell_type": "code",
   "execution_count": 12,
   "id": "super-gross",
   "metadata": {},
   "outputs": [
    {
     "name": "stdout",
     "output_type": "stream",
     "text": [
      "Model 0 generated the numbers [1, 4, 1, 7, 7, 7, 6, 3, 1, 7]\n",
      "Model 1 generated the numbers [1, 4, 1, 7, 7, 7, 6, 3, 1, 7]\n"
     ]
    }
   ],
   "source": [
    "for i in range(2):\n",
    "    parameters = {'seed':1, 'steps':0, 'n':i}\n",
    "    model = RandomModel(parameters)\n",
    "    model.run(display=False)"
   ]
  },
  {
   "cell_type": "markdown",
   "id": "humanitarian-fields",
   "metadata": {},
   "source": [
    "## Using multiple generators"
   ]
  },
  {
   "cell_type": "raw",
   "id": "plain-offer",
   "metadata": {
    "raw_mimetype": "text/restructuredtext"
   },
   "source": [
    "The automatic use of the :attr:`seed` parameter seeds a new number generator at the beginning of the simulation.\n",
    "For more advanced applications, we can create seperate generators for each object, using :func:`random.Random`.\n",
    "We can ensure that the seeds of each object follow a controlled pseudo-random sequence by using the models' main generator to generate the seeds."
   ]
  },
  {
   "cell_type": "code",
   "execution_count": 19,
   "id": "ethical-anchor",
   "metadata": {},
   "outputs": [
    {
     "name": "stdout",
     "output_type": "stream",
     "text": [
      "Model 0:\n",
      "RandomAgent2 (Obj 1) generated the numbers [8, 1, 4, 6, 6, 3, 4, 3, 5, 1]\n",
      "RandomAgent2 (Obj 2) generated the numbers [9, 7, 8, 8, 0, 5, 3, 0, 2, 6]\n",
      "\n",
      "Model 1:\n",
      "RandomAgent2 (Obj 1) generated the numbers [8, 1, 4, 6, 6, 3, 4, 3, 5, 1]\n",
      "RandomAgent2 (Obj 2) generated the numbers [9, 7, 8, 8, 0, 5, 3, 0, 2, 6]\n",
      "\n"
     ]
    }
   ],
   "source": [
    "class RandomAgent2(ap.Agent):\n",
    "    \n",
    "    def setup(self):\n",
    "        seed = self.model.random.getrandbits(128) # Seed from model\n",
    "        self.random = random.Random(seed)  # Create agent generator\n",
    "        self.random_numbers = [self.random.randint(0, 9) for _ in range(10)]\n",
    "        print(f\"{self} generated the numbers {self.random_numbers}\")\n",
    "        \n",
    "class RandomModel2(ap.Model):\n",
    "    \n",
    "    def setup(self):\n",
    "        print(f\"Model {i}:\")\n",
    "        self.agents = ap.AgentList(self, 2, RandomAgent2)\n",
    "        print()\n",
    "\n",
    "for i in range(2):\n",
    "    parameters = {'seed': 1, 'steps': 0}\n",
    "    model = RandomModel2(parameters)\n",
    "    results = model.run(display=False)"
   ]
  },
  {
   "cell_type": "markdown",
   "id": "iraqi-teaching",
   "metadata": {},
   "source": [
    "Alternatively, we could also have each agent start from the same seed:"
   ]
  },
  {
   "cell_type": "code",
   "execution_count": 22,
   "id": "appointed-hello",
   "metadata": {},
   "outputs": [
    {
     "name": "stdout",
     "output_type": "stream",
     "text": [
      "\n",
      "Model 0:\n",
      "RandomAgent3 (Obj 1) generated the numbers [2, 9, 1, 4, 1, 7, 7, 7, 6, 3]\n",
      "RandomAgent3 (Obj 2) generated the numbers [2, 9, 1, 4, 1, 7, 7, 7, 6, 3]\n",
      "\n",
      "Model 1:\n",
      "RandomAgent3 (Obj 1) generated the numbers [2, 9, 1, 4, 1, 7, 7, 7, 6, 3]\n",
      "RandomAgent3 (Obj 2) generated the numbers [2, 9, 1, 4, 1, 7, 7, 7, 6, 3]\n"
     ]
    }
   ],
   "source": [
    "class RandomAgent3(ap.Agent):\n",
    "    \n",
    "    def setup(self):\n",
    "        self.random = random.Random(self.p.agent_seed)\n",
    "        self.random_numbers = [self.random.randint(0, 9) for _ in range(10)]\n",
    "        print(f\"{self} generated the numbers {self.random_numbers}\")\n",
    "        \n",
    "class RandomModel3(ap.Model):\n",
    "    \n",
    "    def setup(self):\n",
    "        print(f\"\\nModel {i}:\")\n",
    "        self.agents = ap.AgentList(self, 2, RandomAgent3)\n",
    "        \n",
    "for i in range(2):\n",
    "    parameters = {'agent_seed': 1, 'steps':0, 'n':i}\n",
    "    model = RandomModel3(parameters)\n",
    "    results = model.run(display=False)"
   ]
  },
  {
   "cell_type": "markdown",
   "id": "pacific-dinner",
   "metadata": {},
   "source": [
    "## Modeling stochastic processes"
   ]
  },
  {
   "cell_type": "markdown",
   "id": "modified-saudi",
   "metadata": {},
   "source": [
    "This section presents some stochastic operations that are often used in agent-based models. To start, we prepare a generic model with ten agents:"
   ]
  },
  {
   "cell_type": "code",
   "execution_count": 23,
   "id": "guided-sunday",
   "metadata": {},
   "outputs": [
    {
     "data": {
      "text/plain": [
       "AgentList (10 objects)"
      ]
     },
     "execution_count": 23,
     "metadata": {},
     "output_type": "execute_result"
    }
   ],
   "source": [
    "model = ap.Model()\n",
    "agents = ap.AgentList(model, 10)\n",
    "agents"
   ]
  },
  {
   "cell_type": "markdown",
   "id": "joint-correction",
   "metadata": {},
   "source": [
    "If we look at the agent's ids, we see that they have been created in order:"
   ]
  },
  {
   "cell_type": "code",
   "execution_count": 24,
   "id": "early-excerpt",
   "metadata": {},
   "outputs": [
    {
     "data": {
      "text/plain": [
       "[1, 2, 3, 4, 5, 6, 7, 8, 9, 10]"
      ]
     },
     "execution_count": 24,
     "metadata": {},
     "output_type": "execute_result"
    }
   ],
   "source": [
    "agents.id"
   ]
  },
  {
   "cell_type": "raw",
   "id": "fifth-circular",
   "metadata": {
    "raw_mimetype": "text/restructuredtext"
   },
   "source": [
    "We can shuffle this list with :func:`AgentList.shuffle`:"
   ]
  },
  {
   "cell_type": "code",
   "execution_count": 25,
   "id": "popular-jonathan",
   "metadata": {},
   "outputs": [
    {
     "data": {
      "text/plain": [
       "[8, 10, 5, 6, 9, 4, 7, 2, 3, 1]"
      ]
     },
     "execution_count": 25,
     "metadata": {},
     "output_type": "execute_result"
    }
   ],
   "source": [
    "agents.shuffle().id"
   ]
  },
  {
   "cell_type": "raw",
   "id": "cathedral-campaign",
   "metadata": {
    "raw_mimetype": "text/restructuredtext"
   },
   "source": [
    "Or we can use :func:`AgentList.random` to create a random subset.\n",
    "Without repetition/replacement:"
   ]
  },
  {
   "cell_type": "code",
   "execution_count": 46,
   "id": "painful-ocean",
   "metadata": {},
   "outputs": [
    {
     "data": {
      "text/plain": [
       "[7, 5, 9]"
      ]
     },
     "execution_count": 46,
     "metadata": {},
     "output_type": "execute_result"
    }
   ],
   "source": [
    "agents.random(3).id"
   ]
  },
  {
   "cell_type": "markdown",
   "id": "heard-vessel",
   "metadata": {},
   "source": [
    "With repetition/replacement:"
   ]
  },
  {
   "cell_type": "code",
   "execution_count": 47,
   "id": "level-pierce",
   "metadata": {},
   "outputs": [
    {
     "data": {
      "text/plain": [
       "[6, 7, 9, 9, 5, 2, 1, 8, 2, 8, 2, 6, 8, 10, 3, 10, 7, 7, 9, 1]"
      ]
     },
     "execution_count": 47,
     "metadata": {},
     "output_type": "execute_result"
    }
   ],
   "source": [
    "agents.random(20, replace=True).id"
   ]
  },
  {
   "cell_type": "markdown",
   "id": "rapid-testament",
   "metadata": {},
   "source": [
    "## Multi-run experiments"
   ]
  },
  {
   "cell_type": "markdown",
   "id": "declared-chamber",
   "metadata": {},
   "source": [
    "If we want to run a model multiple times,\n",
    "there are different ways to define the random seeds.\n",
    "If we pass no seed at all, every run will be different.\n",
    "If we pass a seed as a parameter, every iteration with that parameter will have the same results."
   ]
  },
  {
   "cell_type": "code",
   "execution_count": 48,
   "id": "digital-agent",
   "metadata": {},
   "outputs": [],
   "source": [
    "class Model(ap.Model):\n",
    "    def setup(self):\n",
    "        self.report('x', self.model.random.random())\n",
    "\n",
    "parameters = {'steps': 0, 'seed': ap.Values(1, 1, 2)}\n",
    "sample = ap.Sample(parameters)"
   ]
  },
  {
   "cell_type": "code",
   "execution_count": 49,
   "id": "adverse-wheat",
   "metadata": {},
   "outputs": [
    {
     "name": "stdout",
     "output_type": "stream",
     "text": [
      "Scheduled runs: 6\n",
      "Completed: 6, estimated time remaining: 0:00:00\n",
      "Experiment finished\n",
      "Run time: 0:00:00.027598\n"
     ]
    },
    {
     "data": {
      "text/html": [
       "<div>\n",
       "<style scoped>\n",
       "    .dataframe tbody tr th:only-of-type {\n",
       "        vertical-align: middle;\n",
       "    }\n",
       "\n",
       "    .dataframe tbody tr th {\n",
       "        vertical-align: top;\n",
       "    }\n",
       "\n",
       "    .dataframe thead th {\n",
       "        text-align: right;\n",
       "    }\n",
       "</style>\n",
       "<table border=\"1\" class=\"dataframe\">\n",
       "  <thead>\n",
       "    <tr style=\"text-align: right;\">\n",
       "      <th></th>\n",
       "      <th>sample_id</th>\n",
       "      <th>iteration</th>\n",
       "      <th>x</th>\n",
       "      <th>seed</th>\n",
       "    </tr>\n",
       "  </thead>\n",
       "  <tbody>\n",
       "    <tr>\n",
       "      <th>0</th>\n",
       "      <td>0</td>\n",
       "      <td>0</td>\n",
       "      <td>0.763775</td>\n",
       "      <td>1</td>\n",
       "    </tr>\n",
       "    <tr>\n",
       "      <th>1</th>\n",
       "      <td>0</td>\n",
       "      <td>1</td>\n",
       "      <td>0.763775</td>\n",
       "      <td>1</td>\n",
       "    </tr>\n",
       "    <tr>\n",
       "      <th>2</th>\n",
       "      <td>1</td>\n",
       "      <td>0</td>\n",
       "      <td>0.763775</td>\n",
       "      <td>1</td>\n",
       "    </tr>\n",
       "    <tr>\n",
       "      <th>3</th>\n",
       "      <td>1</td>\n",
       "      <td>1</td>\n",
       "      <td>0.763775</td>\n",
       "      <td>1</td>\n",
       "    </tr>\n",
       "    <tr>\n",
       "      <th>4</th>\n",
       "      <td>2</td>\n",
       "      <td>0</td>\n",
       "      <td>0.056551</td>\n",
       "      <td>2</td>\n",
       "    </tr>\n",
       "    <tr>\n",
       "      <th>5</th>\n",
       "      <td>2</td>\n",
       "      <td>1</td>\n",
       "      <td>0.056551</td>\n",
       "      <td>2</td>\n",
       "    </tr>\n",
       "  </tbody>\n",
       "</table>\n",
       "</div>"
      ],
      "text/plain": [
       "   sample_id  iteration         x  seed\n",
       "0          0          0  0.763775     1\n",
       "1          0          1  0.763775     1\n",
       "2          1          0  0.763775     1\n",
       "3          1          1  0.763775     1\n",
       "4          2          0  0.056551     2\n",
       "5          2          1  0.056551     2"
      ]
     },
     "execution_count": 49,
     "metadata": {},
     "output_type": "execute_result"
    }
   ],
   "source": [
    "exp = ap.Experiment(Model, sample, iterations=2)\n",
    "results = exp.run()\n",
    "results.arrange_reporters()"
   ]
  },
  {
   "cell_type": "markdown",
   "id": "lucky-blocking",
   "metadata": {},
   "source": [
    "Alternatively, we can initialize the experiment with `random=True` to use the seed parameter as a seed to generate new seeds for each iteration with that parameter combination."
   ]
  },
  {
   "cell_type": "code",
   "execution_count": 50,
   "id": "unnecessary-amendment",
   "metadata": {},
   "outputs": [
    {
     "name": "stdout",
     "output_type": "stream",
     "text": [
      "Scheduled runs: 6\n",
      "Completed: 6, estimated time remaining: 0:00:00\n",
      "Experiment finished\n",
      "Run time: 0:00:00.031210\n"
     ]
    },
    {
     "data": {
      "text/html": [
       "<div>\n",
       "<style scoped>\n",
       "    .dataframe tbody tr th:only-of-type {\n",
       "        vertical-align: middle;\n",
       "    }\n",
       "\n",
       "    .dataframe tbody tr th {\n",
       "        vertical-align: top;\n",
       "    }\n",
       "\n",
       "    .dataframe thead th {\n",
       "        text-align: right;\n",
       "    }\n",
       "</style>\n",
       "<table border=\"1\" class=\"dataframe\">\n",
       "  <thead>\n",
       "    <tr style=\"text-align: right;\">\n",
       "      <th></th>\n",
       "      <th>sample_id</th>\n",
       "      <th>iteration</th>\n",
       "      <th>x</th>\n",
       "      <th>seed</th>\n",
       "    </tr>\n",
       "  </thead>\n",
       "  <tbody>\n",
       "    <tr>\n",
       "      <th>0</th>\n",
       "      <td>0</td>\n",
       "      <td>0</td>\n",
       "      <td>0.035423</td>\n",
       "      <td>1</td>\n",
       "    </tr>\n",
       "    <tr>\n",
       "      <th>1</th>\n",
       "      <td>0</td>\n",
       "      <td>1</td>\n",
       "      <td>0.083635</td>\n",
       "      <td>1</td>\n",
       "    </tr>\n",
       "    <tr>\n",
       "      <th>2</th>\n",
       "      <td>1</td>\n",
       "      <td>0</td>\n",
       "      <td>0.035423</td>\n",
       "      <td>1</td>\n",
       "    </tr>\n",
       "    <tr>\n",
       "      <th>3</th>\n",
       "      <td>1</td>\n",
       "      <td>1</td>\n",
       "      <td>0.083635</td>\n",
       "      <td>1</td>\n",
       "    </tr>\n",
       "    <tr>\n",
       "      <th>4</th>\n",
       "      <td>2</td>\n",
       "      <td>0</td>\n",
       "      <td>0.134744</td>\n",
       "      <td>2</td>\n",
       "    </tr>\n",
       "    <tr>\n",
       "      <th>5</th>\n",
       "      <td>2</td>\n",
       "      <td>1</td>\n",
       "      <td>0.502731</td>\n",
       "      <td>2</td>\n",
       "    </tr>\n",
       "  </tbody>\n",
       "</table>\n",
       "</div>"
      ],
      "text/plain": [
       "   sample_id  iteration         x  seed\n",
       "0          0          0  0.035423     1\n",
       "1          0          1  0.083635     1\n",
       "2          1          0  0.035423     1\n",
       "3          1          1  0.083635     1\n",
       "4          2          0  0.134744     2\n",
       "5          2          1  0.502731     2"
      ]
     },
     "execution_count": 50,
     "metadata": {},
     "output_type": "execute_result"
    }
   ],
   "source": [
    "sample = ap.Sample(parameters)\n",
    "exp = ap.Experiment(Model, sample, iterations=2, random=True)\n",
    "results = exp.run()\n",
    "results.arrange_reporters()"
   ]
  },
  {
   "cell_type": "markdown",
   "id": "general-musician",
   "metadata": {},
   "source": [
    "## Further reading"
   ]
  },
  {
   "cell_type": "markdown",
   "id": "appreciated-musician",
   "metadata": {},
   "source": [
    "- Random number generation in Python:  \n",
    "  https://realpython.com/python-random/\n",
    "- Random sampling in Numpy:  \n",
    "  https://numpy.org/devdocs/reference/random/index.html\n",
    "- Stochasticity in agent-based models:  \n",
    "  http://www2.econ.iastate.edu/tesfatsi/ace.htm#Stochasticity\n",
    "- Pseudo-random number generators:  \n",
    "  https://en.wikipedia.org/wiki/Pseudorandom_number_generator\n",
    "- What is random:  \n",
    "  https://www.youtube.com/watch?v=9rIy0xY99a0"
   ]
  }
 ],
 "metadata": {
  "kernelspec": {
   "display_name": "Python 3",
   "language": "python",
   "name": "python3"
  },
  "language_info": {
   "codemirror_mode": {
    "name": "ipython",
    "version": 3
   },
   "file_extension": ".py",
   "mimetype": "text/x-python",
   "name": "python",
   "nbconvert_exporter": "python",
   "pygments_lexer": "ipython3",
   "version": "3.8.5"
  },
  "toc-autonumbering": false,
  "toc-showcode": false,
  "toc-showmarkdowntxt": false
 },
 "nbformat": 4,
 "nbformat_minor": 5
}

{
 "cells": [
  {
   "cell_type": "markdown",
   "id": "complicated-empire",
   "metadata": {},
   "source": [
    "# Randomness and reproducibility"
   ]
  },
  {
   "cell_type": "markdown",
   "id": "pending-strengthening",
   "metadata": {
    "raw_mimetype": "text/restructuredtext"
   },
   "source": [
    "Random numbers and [stochastic processes](http://www2.econ.iastate.edu/tesfatsi/ace.htm#Stochasticity)\n",
    "are essential to most agent-based models.\n",
    "[Pseudo-random number generators](https://en.wikipedia.org/wiki/Pseudorandom_number_generator)\n",
    "can be used to create numbers in a sequence that appears \n",
    "random but is actually a deterministic sequence based on an initial seed value.\n",
    "In other words, the generator will produce the same pseudo-random sequence \n",
    "over multiple runs if it is given the same seed at the beginning.\n",
    "Note that is possible that the generators will draw the same number repeatedly, \n",
    "as illustrated in this [comic strip](https://dilbert.com/strip/2001-10-25) from Scott Adams:\n",
    "\n",
    "![Alt text](graphics/dilbert_rng.gif)"
   ]
  },
  {
   "cell_type": "code",
   "execution_count": 1,
   "id": "banned-makeup",
   "metadata": {},
   "outputs": [],
   "source": [
    "import agentpy as ap\n",
    "import numpy as np\n",
    "import random"
   ]
  },
  {
   "cell_type": "markdown",
   "id": "shared-sweden",
   "metadata": {},
   "source": [
    "## Random number generators"
   ]
  },
  {
   "cell_type": "markdown",
   "id": "serious-graduation",
   "metadata": {},
   "source": [
    "Agentpy models contain two internal pseudo-random number generators with different features:\n",
    "\n",
    "- `Model.random` is an instance of `random.Random` (more info [here](https://realpython.com/python-random/))\n",
    "- `Model.nprandom` is an instance of `numpy.random.Generator` (more info [here](https://numpy.org/devdocs/reference/random/index.html))"
   ]
  },
  {
   "cell_type": "markdown",
   "id": "derived-aruba",
   "metadata": {},
   "source": [
    "To illustrate, let us define a model that uses both generators to draw a random integer:"
   ]
  },
  {
   "cell_type": "code",
   "execution_count": 2,
   "id": "recent-alias",
   "metadata": {},
   "outputs": [],
   "source": [
    "class RandomModel(ap.Model):\n",
    "    \n",
    "    def setup(self):\n",
    "        self.x = self.random.randint(0, 99)\n",
    "        self.y = self.nprandom.integers(99)\n",
    "        self.report(['x', 'y'])"
   ]
  },
  {
   "cell_type": "markdown",
   "id": "official-france",
   "metadata": {},
   "source": [
    "If we run this model multiple times, we will likely get a different series of numbers:"
   ]
  },
  {
   "cell_type": "code",
   "execution_count": 3,
   "id": "destroyed-impossible",
   "metadata": {},
   "outputs": [
    {
     "name": "stdout",
     "output_type": "stream",
     "text": [
      "Scheduled runs: 5\n",
      "Completed: 5, estimated time remaining: 0:00:00\n",
      "Experiment finished\n",
      "Run time: 0:00:00.042848\n"
     ]
    }
   ],
   "source": [
    "exp = ap.Experiment(RandomModel, iterations=5)\n",
    "results = exp.run()"
   ]
  },
  {
   "cell_type": "code",
   "execution_count": 4,
   "id": "hairy-classification",
   "metadata": {},
   "outputs": [
    {
     "data": {
      "text/html": [
       "<div>\n",
       "<style scoped>\n",
       "    .dataframe tbody tr th:only-of-type {\n",
       "        vertical-align: middle;\n",
       "    }\n",
       "\n",
       "    .dataframe tbody tr th {\n",
       "        vertical-align: top;\n",
       "    }\n",
       "\n",
       "    .dataframe thead th {\n",
       "        text-align: right;\n",
       "    }\n",
       "</style>\n",
       "<table border=\"1\" class=\"dataframe\">\n",
       "  <thead>\n",
       "    <tr style=\"text-align: right;\">\n",
       "      <th></th>\n",
       "      <th></th>\n",
       "      <th>x</th>\n",
       "      <th>y</th>\n",
       "    </tr>\n",
       "    <tr>\n",
       "      <th>sample_id</th>\n",
       "      <th>iteration</th>\n",
       "      <th></th>\n",
       "      <th></th>\n",
       "    </tr>\n",
       "  </thead>\n",
       "  <tbody>\n",
       "    <tr>\n",
       "      <th rowspan=\"5\" valign=\"top\">0</th>\n",
       "      <th>0</th>\n",
       "      <td>40</td>\n",
       "      <td>2</td>\n",
       "    </tr>\n",
       "    <tr>\n",
       "      <th>1</th>\n",
       "      <td>32</td>\n",
       "      <td>79</td>\n",
       "    </tr>\n",
       "    <tr>\n",
       "      <th>2</th>\n",
       "      <td>77</td>\n",
       "      <td>10</td>\n",
       "    </tr>\n",
       "    <tr>\n",
       "      <th>3</th>\n",
       "      <td>35</td>\n",
       "      <td>37</td>\n",
       "    </tr>\n",
       "    <tr>\n",
       "      <th>4</th>\n",
       "      <td>9</td>\n",
       "      <td>81</td>\n",
       "    </tr>\n",
       "  </tbody>\n",
       "</table>\n",
       "</div>"
      ],
      "text/plain": [
       "                      x   y\n",
       "sample_id iteration        \n",
       "0         0          40   2\n",
       "          1          32  79\n",
       "          2          77  10\n",
       "          3          35  37\n",
       "          4           9  81"
      ]
     },
     "execution_count": 4,
     "metadata": {},
     "output_type": "execute_result"
    }
   ],
   "source": [
    "results.reporters"
   ]
  },
  {
   "cell_type": "markdown",
   "id": "brief-crossing",
   "metadata": {},
   "source": [
    "## Defining custom seeds"
   ]
  },
  {
   "cell_type": "markdown",
   "id": "alternative-knight",
   "metadata": {
    "raw_mimetype": "text/restructuredtext"
   },
   "source": [
    "If we want the results to be reproducible, \n",
    "we can define a parameter `seed` that \n",
    "will be used automatically at the beginning of `Model.run`\n",
    "to initialize both generators."
   ]
  },
  {
   "cell_type": "code",
   "execution_count": 5,
   "id": "tamil-navigator",
   "metadata": {},
   "outputs": [
    {
     "name": "stdout",
     "output_type": "stream",
     "text": [
      "Scheduled runs: 5\n",
      "Completed: 5, estimated time remaining: 0:00:00\n",
      "Experiment finished\n",
      "Run time: 0:00:00.040061\n"
     ]
    }
   ],
   "source": [
    "parameters = {'seed': 42}\n",
    "exp = ap.Experiment(RandomModel, parameters, iterations=5)\n",
    "results = exp.run()"
   ]
  },
  {
   "cell_type": "markdown",
   "id": "fitted-alexander",
   "metadata": {},
   "source": [
    "Now, we get the same set of numbers during every iteration:"
   ]
  },
  {
   "cell_type": "code",
   "execution_count": 6,
   "id": "described-modern",
   "metadata": {},
   "outputs": [
    {
     "data": {
      "text/html": [
       "<div>\n",
       "<style scoped>\n",
       "    .dataframe tbody tr th:only-of-type {\n",
       "        vertical-align: middle;\n",
       "    }\n",
       "\n",
       "    .dataframe tbody tr th {\n",
       "        vertical-align: top;\n",
       "    }\n",
       "\n",
       "    .dataframe thead th {\n",
       "        text-align: right;\n",
       "    }\n",
       "</style>\n",
       "<table border=\"1\" class=\"dataframe\">\n",
       "  <thead>\n",
       "    <tr style=\"text-align: right;\">\n",
       "      <th></th>\n",
       "      <th></th>\n",
       "      <th>x</th>\n",
       "      <th>y</th>\n",
       "    </tr>\n",
       "    <tr>\n",
       "      <th>sample_id</th>\n",
       "      <th>iteration</th>\n",
       "      <th></th>\n",
       "      <th></th>\n",
       "    </tr>\n",
       "  </thead>\n",
       "  <tbody>\n",
       "    <tr>\n",
       "      <th rowspan=\"5\" valign=\"top\">0</th>\n",
       "      <th>0</th>\n",
       "      <td>35</td>\n",
       "      <td>39</td>\n",
       "    </tr>\n",
       "    <tr>\n",
       "      <th>1</th>\n",
       "      <td>35</td>\n",
       "      <td>39</td>\n",
       "    </tr>\n",
       "    <tr>\n",
       "      <th>2</th>\n",
       "      <td>35</td>\n",
       "      <td>39</td>\n",
       "    </tr>\n",
       "    <tr>\n",
       "      <th>3</th>\n",
       "      <td>35</td>\n",
       "      <td>39</td>\n",
       "    </tr>\n",
       "    <tr>\n",
       "      <th>4</th>\n",
       "      <td>35</td>\n",
       "      <td>39</td>\n",
       "    </tr>\n",
       "  </tbody>\n",
       "</table>\n",
       "</div>"
      ],
      "text/plain": [
       "                      x   y\n",
       "sample_id iteration        \n",
       "0         0          35  39\n",
       "          1          35  39\n",
       "          2          35  39\n",
       "          3          35  39\n",
       "          4          35  39"
      ]
     },
     "execution_count": 6,
     "metadata": {},
     "output_type": "execute_result"
    }
   ],
   "source": [
    "results.reporters"
   ]
  },
  {
   "cell_type": "markdown",
   "id": "current-subscription",
   "metadata": {},
   "source": [
    "## Stochastic processes for agent groups"
   ]
  },
  {
   "cell_type": "markdown",
   "id": "awful-consultancy",
   "metadata": {},
   "source": [
    "Let us now look at some stochastic operations that are often used in agent-based models. \n",
    "To start, we create a list of five agents:"
   ]
  },
  {
   "cell_type": "code",
   "execution_count": 19,
   "id": "necessary-brush",
   "metadata": {},
   "outputs": [],
   "source": [
    "model = ap.Model()\n",
    "agents = ap.AgentList(model, 5)"
   ]
  },
  {
   "cell_type": "code",
   "execution_count": 20,
   "id": "hired-jordan",
   "metadata": {},
   "outputs": [
    {
     "data": {
      "text/plain": [
       "AgentList (5 objects)"
      ]
     },
     "execution_count": 20,
     "metadata": {},
     "output_type": "execute_result"
    }
   ],
   "source": [
    "agents"
   ]
  },
  {
   "cell_type": "markdown",
   "id": "recovered-stevens",
   "metadata": {},
   "source": [
    "If we look at the agent's ids, we see that they have been created in order:"
   ]
  },
  {
   "cell_type": "code",
   "execution_count": 21,
   "id": "scenic-japanese",
   "metadata": {},
   "outputs": [
    {
     "data": {
      "text/plain": [
       "[1, 2, 3, 4, 5]"
      ]
     },
     "execution_count": 21,
     "metadata": {},
     "output_type": "execute_result"
    }
   ],
   "source": [
    "agents.id"
   ]
  },
  {
   "cell_type": "markdown",
   "id": "dried-parameter",
   "metadata": {
    "raw_mimetype": "text/restructuredtext"
   },
   "source": [
    "To shuffle this list, we can use `AgentList.shuffle`:"
   ]
  },
  {
   "cell_type": "code",
   "execution_count": 22,
   "id": "arranged-blend",
   "metadata": {},
   "outputs": [
    {
     "data": {
      "text/plain": [
       "[3, 5, 1, 2, 4]"
      ]
     },
     "execution_count": 22,
     "metadata": {},
     "output_type": "execute_result"
    }
   ],
   "source": [
    "agents.shuffle().id"
   ]
  },
  {
   "cell_type": "markdown",
   "id": "minus-anger",
   "metadata": {
    "raw_mimetype": "text/restructuredtext"
   },
   "source": [
    "To create a random subset, we can use `AgentList.random`:"
   ]
  },
  {
   "cell_type": "code",
   "execution_count": 26,
   "id": "framed-passport",
   "metadata": {},
   "outputs": [
    {
     "data": {
      "text/plain": [
       "[1, 5, 4]"
      ]
     },
     "execution_count": 26,
     "metadata": {},
     "output_type": "execute_result"
    }
   ],
   "source": [
    "agents.random(3).id"
   ]
  },
  {
   "cell_type": "markdown",
   "id": "rolled-volunteer",
   "metadata": {},
   "source": [
    "And if we want it to be possible to select the same agent more than once:"
   ]
  },
  {
   "cell_type": "code",
   "execution_count": 27,
   "id": "completed-disposition",
   "metadata": {},
   "outputs": [
    {
     "data": {
      "text/plain": [
       "[2, 5, 1, 1, 4, 2]"
      ]
     },
     "execution_count": 27,
     "metadata": {},
     "output_type": "execute_result"
    }
   ],
   "source": [
    "agents.random(6, replace=True).id"
   ]
  },
  {
   "cell_type": "markdown",
   "id": "knowing-mechanism",
   "metadata": {},
   "source": [
    "## Varying seeds"
   ]
  },
  {
   "cell_type": "markdown",
   "id": "verbal-antibody",
   "metadata": {},
   "source": [
    "### Variations in parameter samples"
   ]
  },
  {
   "cell_type": "markdown",
   "id": "prepared-defendant",
   "metadata": {},
   "source": [
    "To define a custom set of seeds, we can sample the seed like any other parameter:"
   ]
  },
  {
   "cell_type": "code",
   "execution_count": 110,
   "id": "pediatric-pleasure",
   "metadata": {},
   "outputs": [],
   "source": [
    "parameters1 = {'p': ap.Values(0, 1), 'seed': ap.Values(0, 1)}\n",
    "sample1 = ap.Sample(parameters1)"
   ]
  },
  {
   "cell_type": "code",
   "execution_count": 111,
   "id": "valued-brunswick",
   "metadata": {},
   "outputs": [
    {
     "data": {
      "text/plain": [
       "[{'p': 0, 'seed': 0},\n",
       " {'p': 0, 'seed': 1},\n",
       " {'p': 1, 'seed': 0},\n",
       " {'p': 1, 'seed': 1}]"
      ]
     },
     "execution_count": 111,
     "metadata": {},
     "output_type": "execute_result"
    }
   ],
   "source": [
    "list(sample1)"
   ]
  },
  {
   "cell_type": "markdown",
   "id": "universal-linux",
   "metadata": {},
   "source": [
    "Alternatively, we we can pass an argument `'seed'` to `Sample`\n",
    "to generate random seeds for each parameter combination in the sample."
   ]
  },
  {
   "cell_type": "code",
   "execution_count": 142,
   "id": "parental-fabric",
   "metadata": {},
   "outputs": [],
   "source": [
    "parameters2 = {'p': ap.Values(0, 1)}\n",
    "sample2 = ap.Sample(parameters2, seed=1)"
   ]
  },
  {
   "cell_type": "code",
   "execution_count": 143,
   "id": "convinced-usage",
   "metadata": {},
   "outputs": [
    {
     "data": {
      "text/plain": [
       "[{'p': 0, 'seed': 272996653310673477252411125948039410165},\n",
       " {'p': 1, 'seed': 40125655066622386354123033417875897284}]"
      ]
     },
     "execution_count": 143,
     "metadata": {},
     "output_type": "execute_result"
    }
   ],
   "source": [
    "list(sample2)"
   ]
  },
  {
   "cell_type": "markdown",
   "id": "athletic-funeral",
   "metadata": {},
   "source": [
    "This will always produce the same set of random seeds:"
   ]
  },
  {
   "cell_type": "code",
   "execution_count": 144,
   "id": "least-terminal",
   "metadata": {},
   "outputs": [],
   "source": [
    "sample3 = ap.Sample(parameters2, seed=1)"
   ]
  },
  {
   "cell_type": "code",
   "execution_count": 145,
   "id": "short-running",
   "metadata": {},
   "outputs": [
    {
     "data": {
      "text/plain": [
       "[{'p': 0, 'seed': 272996653310673477252411125948039410165},\n",
       " {'p': 1, 'seed': 40125655066622386354123033417875897284}]"
      ]
     },
     "execution_count": 145,
     "metadata": {},
     "output_type": "execute_result"
    }
   ],
   "source": [
    "list(sample3)"
   ]
  },
  {
   "cell_type": "markdown",
   "id": "champion-plaza",
   "metadata": {},
   "source": [
    "### Variations in experiment iterations"
   ]
  },
  {
   "cell_type": "markdown",
   "id": "musical-confirmation",
   "metadata": {},
   "source": [
    "Returning to the first sample, let us run an experiment.\n",
    "Every iteration with the same seed parameter will have the same results."
   ]
  },
  {
   "cell_type": "code",
   "execution_count": 116,
   "id": "found-bryan",
   "metadata": {},
   "outputs": [
    {
     "name": "stdout",
     "output_type": "stream",
     "text": [
      "Scheduled runs: 8\n",
      "Completed: 8, estimated time remaining: 0:00:00\n",
      "Experiment finished\n",
      "Run time: 0:00:00.051122\n"
     ]
    }
   ],
   "source": [
    "exp = ap.Experiment(RandomModel, sample1, iterations=2)\n",
    "results = exp.run()"
   ]
  },
  {
   "cell_type": "code",
   "execution_count": 117,
   "id": "unlike-evanescence",
   "metadata": {},
   "outputs": [
    {
     "data": {
      "text/html": [
       "<div>\n",
       "<style scoped>\n",
       "    .dataframe tbody tr th:only-of-type {\n",
       "        vertical-align: middle;\n",
       "    }\n",
       "\n",
       "    .dataframe tbody tr th {\n",
       "        vertical-align: top;\n",
       "    }\n",
       "\n",
       "    .dataframe thead th {\n",
       "        text-align: right;\n",
       "    }\n",
       "</style>\n",
       "<table border=\"1\" class=\"dataframe\">\n",
       "  <thead>\n",
       "    <tr style=\"text-align: right;\">\n",
       "      <th></th>\n",
       "      <th>sample_id</th>\n",
       "      <th>iteration</th>\n",
       "      <th>x</th>\n",
       "      <th>y</th>\n",
       "      <th>p</th>\n",
       "      <th>seed</th>\n",
       "    </tr>\n",
       "  </thead>\n",
       "  <tbody>\n",
       "    <tr>\n",
       "      <th>0</th>\n",
       "      <td>0</td>\n",
       "      <td>0</td>\n",
       "      <td>53</td>\n",
       "      <td>19</td>\n",
       "      <td>0</td>\n",
       "      <td>0</td>\n",
       "    </tr>\n",
       "    <tr>\n",
       "      <th>1</th>\n",
       "      <td>0</td>\n",
       "      <td>1</td>\n",
       "      <td>53</td>\n",
       "      <td>19</td>\n",
       "      <td>0</td>\n",
       "      <td>0</td>\n",
       "    </tr>\n",
       "    <tr>\n",
       "      <th>2</th>\n",
       "      <td>1</td>\n",
       "      <td>0</td>\n",
       "      <td>97</td>\n",
       "      <td>38</td>\n",
       "      <td>0</td>\n",
       "      <td>1</td>\n",
       "    </tr>\n",
       "    <tr>\n",
       "      <th>3</th>\n",
       "      <td>1</td>\n",
       "      <td>1</td>\n",
       "      <td>97</td>\n",
       "      <td>38</td>\n",
       "      <td>0</td>\n",
       "      <td>1</td>\n",
       "    </tr>\n",
       "    <tr>\n",
       "      <th>4</th>\n",
       "      <td>2</td>\n",
       "      <td>0</td>\n",
       "      <td>53</td>\n",
       "      <td>19</td>\n",
       "      <td>1</td>\n",
       "      <td>0</td>\n",
       "    </tr>\n",
       "    <tr>\n",
       "      <th>5</th>\n",
       "      <td>2</td>\n",
       "      <td>1</td>\n",
       "      <td>53</td>\n",
       "      <td>19</td>\n",
       "      <td>1</td>\n",
       "      <td>0</td>\n",
       "    </tr>\n",
       "    <tr>\n",
       "      <th>6</th>\n",
       "      <td>3</td>\n",
       "      <td>0</td>\n",
       "      <td>97</td>\n",
       "      <td>38</td>\n",
       "      <td>1</td>\n",
       "      <td>1</td>\n",
       "    </tr>\n",
       "    <tr>\n",
       "      <th>7</th>\n",
       "      <td>3</td>\n",
       "      <td>1</td>\n",
       "      <td>97</td>\n",
       "      <td>38</td>\n",
       "      <td>1</td>\n",
       "      <td>1</td>\n",
       "    </tr>\n",
       "  </tbody>\n",
       "</table>\n",
       "</div>"
      ],
      "text/plain": [
       "   sample_id  iteration   x   y  p  seed\n",
       "0          0          0  53  19  0     0\n",
       "1          0          1  53  19  0     0\n",
       "2          1          0  97  38  0     1\n",
       "3          1          1  97  38  0     1\n",
       "4          2          0  53  19  1     0\n",
       "5          2          1  53  19  1     0\n",
       "6          3          0  97  38  1     1\n",
       "7          3          1  97  38  1     1"
      ]
     },
     "execution_count": 117,
     "metadata": {},
     "output_type": "execute_result"
    }
   ],
   "source": [
    "results.arrange_reporters()"
   ]
  },
  {
   "cell_type": "markdown",
   "id": "japanese-sally",
   "metadata": {},
   "source": [
    "Alternatively, we can initialize the experiment with `random=True`,\n",
    "which will use the seed parameter to generate new seeds \n",
    "for each iteration with that parameter combination."
   ]
  },
  {
   "cell_type": "code",
   "execution_count": 118,
   "id": "comfortable-parade",
   "metadata": {},
   "outputs": [
    {
     "name": "stdout",
     "output_type": "stream",
     "text": [
      "Scheduled runs: 8\n",
      "Completed: 8, estimated time remaining: 0:00:00\n",
      "Experiment finished\n",
      "Run time: 0:00:00.034919\n"
     ]
    }
   ],
   "source": [
    "exp = ap.Experiment(RandomModel, sample1, iterations=2, random=True)\n",
    "results = exp.run()"
   ]
  },
  {
   "cell_type": "markdown",
   "id": "electronic-capability",
   "metadata": {},
   "source": [
    "Parameter combinations with the same iteration & seed will now have the same random output:"
   ]
  },
  {
   "cell_type": "code",
   "execution_count": 119,
   "id": "pretty-sunday",
   "metadata": {},
   "outputs": [
    {
     "data": {
      "text/html": [
       "<div>\n",
       "<style scoped>\n",
       "    .dataframe tbody tr th:only-of-type {\n",
       "        vertical-align: middle;\n",
       "    }\n",
       "\n",
       "    .dataframe tbody tr th {\n",
       "        vertical-align: top;\n",
       "    }\n",
       "\n",
       "    .dataframe thead th {\n",
       "        text-align: right;\n",
       "    }\n",
       "</style>\n",
       "<table border=\"1\" class=\"dataframe\">\n",
       "  <thead>\n",
       "    <tr style=\"text-align: right;\">\n",
       "      <th></th>\n",
       "      <th>sample_id</th>\n",
       "      <th>iteration</th>\n",
       "      <th>x</th>\n",
       "      <th>y</th>\n",
       "      <th>p</th>\n",
       "      <th>seed</th>\n",
       "    </tr>\n",
       "  </thead>\n",
       "  <tbody>\n",
       "    <tr>\n",
       "      <th>0</th>\n",
       "      <td>0</td>\n",
       "      <td>0</td>\n",
       "      <td>68</td>\n",
       "      <td>31</td>\n",
       "      <td>0</td>\n",
       "      <td>0</td>\n",
       "    </tr>\n",
       "    <tr>\n",
       "      <th>1</th>\n",
       "      <td>0</td>\n",
       "      <td>1</td>\n",
       "      <td>55</td>\n",
       "      <td>30</td>\n",
       "      <td>0</td>\n",
       "      <td>0</td>\n",
       "    </tr>\n",
       "    <tr>\n",
       "      <th>2</th>\n",
       "      <td>1</td>\n",
       "      <td>0</td>\n",
       "      <td>4</td>\n",
       "      <td>25</td>\n",
       "      <td>0</td>\n",
       "      <td>1</td>\n",
       "    </tr>\n",
       "    <tr>\n",
       "      <th>3</th>\n",
       "      <td>1</td>\n",
       "      <td>1</td>\n",
       "      <td>10</td>\n",
       "      <td>55</td>\n",
       "      <td>0</td>\n",
       "      <td>1</td>\n",
       "    </tr>\n",
       "    <tr>\n",
       "      <th>4</th>\n",
       "      <td>2</td>\n",
       "      <td>0</td>\n",
       "      <td>68</td>\n",
       "      <td>31</td>\n",
       "      <td>1</td>\n",
       "      <td>0</td>\n",
       "    </tr>\n",
       "    <tr>\n",
       "      <th>5</th>\n",
       "      <td>2</td>\n",
       "      <td>1</td>\n",
       "      <td>55</td>\n",
       "      <td>30</td>\n",
       "      <td>1</td>\n",
       "      <td>0</td>\n",
       "    </tr>\n",
       "    <tr>\n",
       "      <th>6</th>\n",
       "      <td>3</td>\n",
       "      <td>0</td>\n",
       "      <td>4</td>\n",
       "      <td>25</td>\n",
       "      <td>1</td>\n",
       "      <td>1</td>\n",
       "    </tr>\n",
       "    <tr>\n",
       "      <th>7</th>\n",
       "      <td>3</td>\n",
       "      <td>1</td>\n",
       "      <td>10</td>\n",
       "      <td>55</td>\n",
       "      <td>1</td>\n",
       "      <td>1</td>\n",
       "    </tr>\n",
       "  </tbody>\n",
       "</table>\n",
       "</div>"
      ],
      "text/plain": [
       "   sample_id  iteration   x   y  p  seed\n",
       "0          0          0  68  31  0     0\n",
       "1          0          1  55  30  0     0\n",
       "2          1          0   4  25  0     1\n",
       "3          1          1  10  55  0     1\n",
       "4          2          0  68  31  1     0\n",
       "5          2          1  55  30  1     0\n",
       "6          3          0   4  25  1     1\n",
       "7          3          1  10  55  1     1"
      ]
     },
     "execution_count": 119,
     "metadata": {},
     "output_type": "execute_result"
    }
   ],
   "source": [
    "results.arrange_reporters()"
   ]
  },
  {
   "cell_type": "markdown",
   "id": "nearby-pressure",
   "metadata": {},
   "source": [
    "## Agent-specific generators"
   ]
  },
  {
   "cell_type": "markdown",
   "id": "direct-progress",
   "metadata": {
    "raw_mimetype": "text/restructuredtext"
   },
   "source": [
    "For more advanced applications, we can create seperate generators for each object.\n",
    "We can ensure that the seeds of each object follow a controlled pseudo-random sequence by using the models' main generator to generate the seeds."
   ]
  },
  {
   "cell_type": "code",
   "execution_count": 135,
   "id": "union-butler",
   "metadata": {},
   "outputs": [],
   "source": [
    "class RandomAgent(ap.Agent):\n",
    "    \n",
    "    def setup(self):\n",
    "        seed = self.model.random.getrandbits(128) # Seed from model\n",
    "        self.random = random.Random(seed)  # Create agent generator\n",
    "        self.x = self.random.random()  # Create a random number\n",
    "        \n",
    "class MultiRandomModel(ap.Model):\n",
    "    \n",
    "    def setup(self):\n",
    "        self.agents = ap.AgentList(self, 2, RandomAgent)\n",
    "        self.agents.record('x')"
   ]
  },
  {
   "cell_type": "code",
   "execution_count": 133,
   "id": "grateful-vampire",
   "metadata": {},
   "outputs": [
    {
     "name": "stdout",
     "output_type": "stream",
     "text": [
      "Scheduled runs: 2\n",
      "Completed: 2, estimated time remaining: 0:00:00\n",
      "Experiment finished\n",
      "Run time: 0:00:00.028399\n"
     ]
    }
   ],
   "source": [
    "parameters = {'seed': 42}\n",
    "exp = ap.Experiment(MultiRandomModel, parameters, iterations=2, record=True)\n",
    "results = exp.run()"
   ]
  },
  {
   "cell_type": "code",
   "execution_count": 134,
   "id": "adult-language",
   "metadata": {},
   "outputs": [
    {
     "data": {
      "text/html": [
       "<div>\n",
       "<style scoped>\n",
       "    .dataframe tbody tr th:only-of-type {\n",
       "        vertical-align: middle;\n",
       "    }\n",
       "\n",
       "    .dataframe tbody tr th {\n",
       "        vertical-align: top;\n",
       "    }\n",
       "\n",
       "    .dataframe thead th {\n",
       "        text-align: right;\n",
       "    }\n",
       "</style>\n",
       "<table border=\"1\" class=\"dataframe\">\n",
       "  <thead>\n",
       "    <tr style=\"text-align: right;\">\n",
       "      <th></th>\n",
       "      <th></th>\n",
       "      <th></th>\n",
       "      <th></th>\n",
       "      <th>x</th>\n",
       "    </tr>\n",
       "    <tr>\n",
       "      <th>sample_id</th>\n",
       "      <th>iteration</th>\n",
       "      <th>obj_id</th>\n",
       "      <th>t</th>\n",
       "      <th></th>\n",
       "    </tr>\n",
       "  </thead>\n",
       "  <tbody>\n",
       "    <tr>\n",
       "      <th rowspan=\"4\" valign=\"top\">0</th>\n",
       "      <th rowspan=\"2\" valign=\"top\">0</th>\n",
       "      <th>1</th>\n",
       "      <th>0</th>\n",
       "      <td>0.414688</td>\n",
       "    </tr>\n",
       "    <tr>\n",
       "      <th>2</th>\n",
       "      <th>0</th>\n",
       "      <td>0.591608</td>\n",
       "    </tr>\n",
       "    <tr>\n",
       "      <th rowspan=\"2\" valign=\"top\">1</th>\n",
       "      <th>1</th>\n",
       "      <th>0</th>\n",
       "      <td>0.414688</td>\n",
       "    </tr>\n",
       "    <tr>\n",
       "      <th>2</th>\n",
       "      <th>0</th>\n",
       "      <td>0.591608</td>\n",
       "    </tr>\n",
       "  </tbody>\n",
       "</table>\n",
       "</div>"
      ],
      "text/plain": [
       "                                     x\n",
       "sample_id iteration obj_id t          \n",
       "0         0         1      0  0.414688\n",
       "                    2      0  0.591608\n",
       "          1         1      0  0.414688\n",
       "                    2      0  0.591608"
      ]
     },
     "execution_count": 134,
     "metadata": {},
     "output_type": "execute_result"
    }
   ],
   "source": [
    "results.variables.RandomAgent"
   ]
  },
  {
   "cell_type": "markdown",
   "id": "owned-shannon",
   "metadata": {},
   "source": [
    "Alternatively, we can also have each agent start from the same seed:"
   ]
  },
  {
   "cell_type": "code",
   "execution_count": 136,
   "id": "ready-cache",
   "metadata": {},
   "outputs": [],
   "source": [
    "class RandomAgent2(ap.Agent):\n",
    "    \n",
    "    def setup(self):\n",
    "        self.random = random.Random(self.p.agent_seed)  # Create agent generator\n",
    "        self.x = self.random.random()  # Create a random number\n",
    "        \n",
    "class MultiRandomModel2(ap.Model):\n",
    "    \n",
    "    def setup(self):\n",
    "        self.agents = ap.AgentList(self, 2, RandomAgent2)\n",
    "        self.agents.record('x')"
   ]
  },
  {
   "cell_type": "code",
   "execution_count": 139,
   "id": "recreational-bloom",
   "metadata": {},
   "outputs": [
    {
     "name": "stdout",
     "output_type": "stream",
     "text": [
      "Scheduled runs: 2\n",
      "Completed: 2, estimated time remaining: 0:00:00\n",
      "Experiment finished\n",
      "Run time: 0:00:00.019749\n"
     ]
    }
   ],
   "source": [
    "parameters = {'agent_seed': 42}\n",
    "exp = ap.Experiment(MultiRandomModel2, parameters, iterations=2, record=True)\n",
    "results = exp.run()"
   ]
  },
  {
   "cell_type": "code",
   "execution_count": 141,
   "id": "special-difference",
   "metadata": {},
   "outputs": [
    {
     "data": {
      "text/html": [
       "<div>\n",
       "<style scoped>\n",
       "    .dataframe tbody tr th:only-of-type {\n",
       "        vertical-align: middle;\n",
       "    }\n",
       "\n",
       "    .dataframe tbody tr th {\n",
       "        vertical-align: top;\n",
       "    }\n",
       "\n",
       "    .dataframe thead th {\n",
       "        text-align: right;\n",
       "    }\n",
       "</style>\n",
       "<table border=\"1\" class=\"dataframe\">\n",
       "  <thead>\n",
       "    <tr style=\"text-align: right;\">\n",
       "      <th></th>\n",
       "      <th></th>\n",
       "      <th></th>\n",
       "      <th></th>\n",
       "      <th>x</th>\n",
       "    </tr>\n",
       "    <tr>\n",
       "      <th>sample_id</th>\n",
       "      <th>iteration</th>\n",
       "      <th>obj_id</th>\n",
       "      <th>t</th>\n",
       "      <th></th>\n",
       "    </tr>\n",
       "  </thead>\n",
       "  <tbody>\n",
       "    <tr>\n",
       "      <th rowspan=\"4\" valign=\"top\">0</th>\n",
       "      <th rowspan=\"2\" valign=\"top\">0</th>\n",
       "      <th>1</th>\n",
       "      <th>0</th>\n",
       "      <td>0.639427</td>\n",
       "    </tr>\n",
       "    <tr>\n",
       "      <th>2</th>\n",
       "      <th>0</th>\n",
       "      <td>0.639427</td>\n",
       "    </tr>\n",
       "    <tr>\n",
       "      <th rowspan=\"2\" valign=\"top\">1</th>\n",
       "      <th>1</th>\n",
       "      <th>0</th>\n",
       "      <td>0.639427</td>\n",
       "    </tr>\n",
       "    <tr>\n",
       "      <th>2</th>\n",
       "      <th>0</th>\n",
       "      <td>0.639427</td>\n",
       "    </tr>\n",
       "  </tbody>\n",
       "</table>\n",
       "</div>"
      ],
      "text/plain": [
       "                                     x\n",
       "sample_id iteration obj_id t          \n",
       "0         0         1      0  0.639427\n",
       "                    2      0  0.639427\n",
       "          1         1      0  0.639427\n",
       "                    2      0  0.639427"
      ]
     },
     "execution_count": 141,
     "metadata": {},
     "output_type": "execute_result"
    }
   ],
   "source": [
    "results.variables.RandomAgent2"
   ]
  }
 ],
 "metadata": {
  "kernelspec": {
   "display_name": "Python 3",
   "language": "python",
   "name": "python3"
  },
  "language_info": {
   "codemirror_mode": {
    "name": "ipython",
    "version": 3
   },
   "file_extension": ".py",
   "mimetype": "text/x-python",
   "name": "python",
   "nbconvert_exporter": "python",
   "pygments_lexer": "ipython3",
   "version": "3.8.5"
  },
  "toc-autonumbering": false,
  "toc-showcode": false,
  "toc-showmarkdowntxt": false
 },
 "nbformat": 4,
 "nbformat_minor": 5
}

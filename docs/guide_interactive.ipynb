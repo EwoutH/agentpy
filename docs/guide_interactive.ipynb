{
 "cells": [
  {
   "cell_type": "markdown",
   "id": "constitutional-statement",
   "metadata": {},
   "source": [
    "# Interactive simulation interface"
   ]
  },
  {
   "cell_type": "markdown",
   "id": "exterior-assistant",
   "metadata": {},
   "source": [
    "The exploration of agent-based models can often be guided through an interactive simulation interface that allows users to visualize the models dynamics and adjust parameter values while a simulation is running. Examples are the traditional interface of [NetLogo](https://ccl.northwestern.edu/netlogo/), or the browser-based visualization module of [Mesa](https://mesa.readthedocs.io/). \n",
    "\n",
    "This guide shows how to create such interactive interfaces for agentpy models within a Jupyter Notebook by using the [ipysimulate](https://github.com/JoelForamitti/ipysimulate) and [ipywidgets](https://ipywidgets.readthedocs.io/) libraries. This approach is still in an early stage of development, and more features will follow in the future. Contributions are very welcome :)"
   ]
  },
  {
   "cell_type": "code",
   "execution_count": 6,
   "id": "acceptable-mobile",
   "metadata": {},
   "outputs": [],
   "source": [
    "import agentpy as ap\n",
    "import ipysimulate as ips\n",
    "\n",
    "from ipywidgets import AppLayout\n",
    "from agentpy.examples import WealthModel"
   ]
  },
  {
   "cell_type": "markdown",
   "id": "vulnerable-brass",
   "metadata": {},
   "source": [
    "To begin we create an instance of the agentpy [wealth transfer model](https://agentpy.readthedocs.io/en/stable/agentpy_wealth_transfer.html) without passing any parameters."
   ]
  },
  {
   "cell_type": "code",
   "execution_count": 2,
   "id": "seasonal-drinking",
   "metadata": {},
   "outputs": [],
   "source": [
    "model = WealthModel()"
   ]
  },
  {
   "cell_type": "markdown",
   "id": "executive-necessity",
   "metadata": {},
   "source": [
    "We then create an ipysimulate control panel with the model and a set of parameters. Parameters that are given as ranges will appear as interactive widgets. The parameter `fps` (frames per second) will be used automatically to indicate the speed of the simulation. We further pass two variables `t` (time-steps) and `gini` to be displayed live during the simulation."
   ]
  },
  {
   "cell_type": "code",
   "execution_count": 3,
   "id": "abroad-painting",
   "metadata": {},
   "outputs": [],
   "source": [
    "parameters = {\n",
    "    'agents': 1000,\n",
    "    'steps': 100,\n",
    "    'fps': ap.IntRange(1, 20, 5),\n",
    "}\n",
    "control = ips.Control(model, parameters, variables=('t', 'gini'))"
   ]
  },
  {
   "cell_type": "markdown",
   "id": "distributed-ballet",
   "metadata": {},
   "source": [
    "Next, we create a lineplot of the variable `gini` that is connected to the control panel."
   ]
  },
  {
   "cell_type": "code",
   "execution_count": 4,
   "id": "exact-malawi",
   "metadata": {},
   "outputs": [],
   "source": [
    "lineplot = ips.Lineplot(control, 'gini')"
   ]
  },
  {
   "cell_type": "markdown",
   "id": "compound-destiny",
   "metadata": {},
   "source": [
    "Finally, we want to display our two widgets `control` and `lineplot` next to each other. For this, we can use the [layout templates](https://ipywidgets.readthedocs.io/en/stable/examples/Layout%20Templates.html) from ipywidgets. "
   ]
  },
  {
   "cell_type": "code",
   "execution_count": 5,
   "id": "cutting-works",
   "metadata": {},
   "outputs": [
    {
     "data": {
      "application/vnd.jupyter.widget-view+json": {
       "model_id": "b4e241bc456b414592d54aedc70a15b9",
       "version_major": 2,
       "version_minor": 0
      },
      "text/plain": [
       "AppLayout(children=(Control(layout=Layout(grid_area='left-sidebar'), parameters={'agents': 1000, 'steps': 100,…"
      ]
     },
     "metadata": {},
     "output_type": "display_data"
    }
   ],
   "source": [
    "AppLayout(\n",
    "    left_sidebar=control,\n",
    "    center=lineplot,\n",
    "    pane_widths=['125px', 1, 1], \n",
    "    height='400px'\n",
    ")"
   ]
  },
  {
   "cell_type": "markdown",
   "id": "dental-valve",
   "metadata": {},
   "source": [
    "![test](graphics/ips_example.png)"
   ]
  },
  {
   "cell_type": "markdown",
   "id": "alert-repair",
   "metadata": {},
   "source": [
    "Note that this widget is not displayed interactively if viewed in the docs. To view the widget, please download the Jupyter Notebook at the top of this page or launch this notebook as a binder."
   ]
  }
 ],
 "metadata": {
  "kernelspec": {
   "display_name": "Python 3",
   "language": "python",
   "name": "python3"
  },
  "language_info": {
   "codemirror_mode": {
    "name": "ipython",
    "version": 3
   },
   "file_extension": ".py",
   "mimetype": "text/x-python",
   "name": "python",
   "nbconvert_exporter": "python",
   "pygments_lexer": "ipython3",
   "version": "3.8.5"
  }
 },
 "nbformat": 4,
 "nbformat_minor": 5
}

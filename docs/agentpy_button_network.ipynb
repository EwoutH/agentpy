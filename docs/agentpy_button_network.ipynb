{
 "cells": [
  {
   "cell_type": "markdown",
   "metadata": {},
   "source": [
    "# Button network\n",
    "\n",
    "This notebook presents an agent-based model of randomly connecting buttons.\n",
    "It demonstrates how to use the [agentpy](https://agentpy.readthedocs.io) package\n",
    "to work with networks and visualize averaged time-series for discrete parameter samples."
   ]
  },
  {
   "cell_type": "code",
   "execution_count": 1,
   "metadata": {},
   "outputs": [],
   "source": [
    "# Model design\n",
    "import agentpy as ap\n",
    "import networkx as nx\n",
    "\n",
    "# Visualization\n",
    "import seaborn as sns"
   ]
  },
  {
   "cell_type": "markdown",
   "metadata": {},
   "source": [
    "## About the model\n",
    "\n",
    "This model is based on the [Agentbase Button model](http://agentbase.org/model.html?f4c4388138450bdf9732) by Wybo Wiersma and the following analogy from [Stuart Kauffman](http://www.pbs.org/lifebeyondearth/resources/intkauffmanpop.html): \n",
    "\n",
    "> \"Suppose you take 10,000 buttons and spread them out on a hardwood floor. You have a large spool of red thread. Now, what you do is you pick up a random pair of buttons and you tie them together with a piece of red thread. Put them down and pick up another random pair of buttons and tie them together with a red thread, and you just keep doing this. Every now and then lift up a button and see how many buttons you've lifted with your first button. A connective cluster of buttons is called a cluster or a component. When you have 10,000 buttons and only a few threads that tie them together, most of the times you'd pick up a button you'll pick up a single button. \n",
    ">\n",
    ">As the ratio of threads to buttons increases, you're going to start to get larger clusters, three or four buttons tied together; then larger and larger clusters. At some point, you will have a number of intermediate clusters, and when you add a few more threads, you'll have linked up the intermediate-sized clusters into one giant cluster.\n",
    ">\n",
    ">So that if you plot on an axis, the ratio of threads to buttons: 10,000 buttons and no threads; 10,000 buttons and 5,000 threads; and so on, you'll get a curve that is flat, and then all of a sudden it shoots up when you get this giant cluster. This steep curve is in fact evidence of a phase transition.\n",
    ">\n",
    ">If there were an infinite number of threads and an infinite number of buttons and one just tuned the ratios, this would be a step function; it would come up in a sudden jump. So it's a phase transition like ice freezing.\n",
    ">\n",
    ">Now, the image you should take away from this is if you connect enough buttons all of a sudden they all go connected. To think about the origin of life, we have to think about the same thing.\""
   ]
  },
  {
   "cell_type": "markdown",
   "metadata": {},
   "source": [
    "## Model definition"
   ]
  },
  {
   "cell_type": "code",
   "execution_count": 2,
   "metadata": {},
   "outputs": [],
   "source": [
    "class ButtonModel(ap.Model):\n",
    "    \n",
    "    def setup(self):\n",
    "        \n",
    "        # Create a graph with n agents\n",
    "        self.buttons = ap.Network(self)\n",
    "        self.agents = ap.AgentList(self, self.p.n)\n",
    "        self.buttons.add_agents(self.agents)\n",
    "        for agent in self.agents:\n",
    "            agent.node = self.buttons.positions[agent]\n",
    "        self.threads = 0\n",
    "        \n",
    "    def update(self):\n",
    "        \n",
    "        # Record size of the biggest cluster\n",
    "        clusters = nx.connected_components(self.buttons.graph)\n",
    "        max_cluster_size = max([len(g) for g in clusters]) / self.p.n\n",
    "        self.record('max_cluster_size', max_cluster_size)\n",
    "        \n",
    "        # Record threads to button ratio\n",
    "        self.record('threads_to_button', self.threads / self.p.n)\n",
    "    \n",
    "    def step(self):\n",
    "        \n",
    "        # Create random edges based on parameters\n",
    "        for _ in range(int(self.p.n * self.p.speed)):  \n",
    "            self.buttons.graph.add_edge(*self.agents.random(2).node)\n",
    "            self.threads += 1         "
   ]
  },
  {
   "cell_type": "markdown",
   "metadata": {},
   "source": [
    "## Multi-run experiment"
   ]
  },
  {
   "cell_type": "code",
   "execution_count": 3,
   "metadata": {},
   "outputs": [
    {
     "name": "stdout",
     "output_type": "stream",
     "text": [
      "Scheduled runs: 75\n",
      "Completed: 75, estimated time remaining: 0:00:00\n",
      "Experiment finished\n",
      "Run time: 0:00:33.720942\n"
     ]
    }
   ],
   "source": [
    "# Define parameter ranges\n",
    "parameter_ranges = {\n",
    "    'steps': 30,  # Number of simulation steps\n",
    "    'speed': 0.05,  # Speed of connections per step\n",
    "    'n': ap.Values(100, 1000, 10000)  # Number of agents\n",
    "}\n",
    "\n",
    "# Create sample for different values of n\n",
    "sample = ap.Sample(parameter_ranges) \n",
    "\n",
    "# Keep dynamic variables\n",
    "exp = ap.Experiment(ButtonModel, sample, iterations=25, record=True) \n",
    "\n",
    "# Perform 75 separate simulations (3 parameter combinations * 25 repetitions)\n",
    "results = exp.run() "
   ]
  },
  {
   "cell_type": "code",
   "execution_count": 4,
   "metadata": {},
   "outputs": [
    {
     "data": {
      "image/png": "[encoded data removed]",
      "text/plain": [
       "<Figure size 432x288 with 1 Axes>"
      ]
     },
     "metadata": {},
     "output_type": "display_data"
    }
   ],
   "source": [
    "# Plot averaged time-series for discrete parameter samples\n",
    "sns.set_theme() \n",
    "sns.lineplot(\n",
    "    data=results.arrange_variables(), \n",
    "    x='threads_to_button', \n",
    "    y='max_cluster_size', \n",
    "    hue='n'\n",
    ");"
   ]
  }
 ],
 "metadata": {
  "kernelspec": {
   "display_name": "Python 3",
   "language": "python",
   "name": "python3"
  },
  "language_info": {
   "codemirror_mode": {
    "name": "ipython",
    "version": 3
   },
   "file_extension": ".py",
   "mimetype": "text/x-python",
   "name": "python",
   "nbconvert_exporter": "python",
   "pygments_lexer": "ipython3",
   "version": "3.8.5"
  }
 },
 "nbformat": 4,
 "nbformat_minor": 4
}

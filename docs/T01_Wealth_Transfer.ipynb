{
 "cells": [
  {
   "cell_type": "markdown",
   "metadata": {},
   "source": [
    "# Wealth Transfer Model"
   ]
  },
  {
   "cell_type": "markdown",
   "metadata": {},
   "source": [
    "In this tutorial, we will create a simple agent-based model that explores the distribution of wealth under a trading population of agents. The [original version of this model](https://mesa.readthedocs.io/en/master/tutorials/intro_tutorial.html) has been designed by the Project Mesa Team for the [MESA](https://mesa.readthedocs.io/) package. This is an adaption of the same model for the [agentpy](https://mesa.readthedocs.io) package to allow for a comparison between the two frameworks."
   ]
  },
  {
   "cell_type": "markdown",
   "metadata": {},
   "source": [
    "To start, we import agentpy as follows (recommended):"
   ]
  },
  {
   "cell_type": "code",
   "execution_count": 1,
   "metadata": {},
   "outputs": [],
   "source": [
    "import agentpy as ap"
   ]
  },
  {
   "cell_type": "markdown",
   "metadata": {},
   "source": [
    "Each agent is set up as an object of `agent`. These objects hold the variables and possible actions of each agent. \n",
    "\n",
    "For our demonstration, we define a new agent type `wealth_agent`. Each agent starts with one unit of  `wealth`. When `wealth_transfer` is called, the agent selects another agent at random and gives them one unit of their own wealth if they have one to spare."
   ]
  },
  {
   "cell_type": "code",
   "execution_count": 2,
   "metadata": {},
   "outputs": [],
   "source": [
    "class wealth_agent(ap.agent):\n",
    "    \n",
    "    \"\"\" An agent with wealth \"\"\"\n",
    "    \n",
    "    def setup(self):\n",
    "\n",
    "        self.wealth = 1\n",
    "\n",
    "    def wealth_transfer(self):\n",
    "        \n",
    "        if self.wealth > 0:\n",
    "            \n",
    "            partner = self.model.agents.random()\n",
    "            partner.wealth += 1\n",
    "            self.wealth -= 1   "
   ]
  },
  {
   "cell_type": "markdown",
   "metadata": {},
   "source": [
    "For later analysis, we define a method `gini` that can measure the inequality of a passed list."
   ]
  },
  {
   "cell_type": "code",
   "execution_count": 3,
   "metadata": {},
   "outputs": [],
   "source": [
    "import numpy as np\n",
    "\n",
    "def gini(x):\n",
    "    \n",
    "    \"\"\" Calculate Gini Coefficient \"\"\"\n",
    "    # By Warren Weckesser https://stackoverflow.com/a/39513799\n",
    "    \n",
    "    mad = np.abs(np.subtract.outer(x, x)).mean() # Mean absolute difference\n",
    "    rmad = mad/np.mean(x) # Relative mean absolute difference\n",
    "    return 0.5 * rmad "
   ]
  },
  {
   "cell_type": "markdown",
   "metadata": {},
   "source": [
    "All agents are contained within an object of the class `model`. The model initializes with the above defined agents, the number of which will be taken from the models' parameters. In each time-step, `wealth_transfer` is activated for all agents in a random order, after which a model variable `Gini Coefficient` are recorded. At the end of the simulation, each agents `wealth` is also recorded."
   ]
  },
  {
   "cell_type": "code",
   "execution_count": 4,
   "metadata": {},
   "outputs": [],
   "source": [
    "class wealth_model(ap.model):\n",
    "    \n",
    "    \"\"\" A simple model of random wealth transfers \"\"\"\n",
    "    \n",
    "    def setup(self):\n",
    "        \n",
    "        self.add_agents(self.p.agents, wealth_agent)\n",
    "    \n",
    "    def step(self):\n",
    "        \n",
    "        self.agents.do('wealth_transfer', order='random')\n",
    "        \n",
    "    def update(self):\n",
    "        \n",
    "        self.record('Gini Coefficient', gini(self.agents.wealth))\n",
    "        \n",
    "    def end(self):\n",
    "        \n",
    "        self.agents.record('wealth')"
   ]
  },
  {
   "cell_type": "markdown",
   "metadata": {},
   "source": [
    "To run a simulation, we define a dictionary of parameters that defines the number of agents and the number of steps that the model will run."
   ]
  },
  {
   "cell_type": "code",
   "execution_count": 5,
   "metadata": {},
   "outputs": [],
   "source": [
    "parameters = {\n",
    "    'agents': 100,\n",
    "    'steps': 100\n",
    "}"
   ]
  },
  {
   "cell_type": "markdown",
   "metadata": {},
   "source": [
    "To perform a simulation, we initialize our model with these parameters and call the method `model.run`, which returns a `data_dict` of recorded data."
   ]
  },
  {
   "cell_type": "code",
   "execution_count": 6,
   "metadata": {},
   "outputs": [
    {
     "name": "stdout",
     "output_type": "stream",
     "text": [
      "Completed: 100 steps\n",
      "Run time: 0:00:00.204882\n",
      "Simulation finished\n"
     ]
    }
   ],
   "source": [
    "model = wealth_model(parameters)\n",
    "results = model.run()"
   ]
  },
  {
   "cell_type": "markdown",
   "metadata": {},
   "source": [
    "To visualize the distribution of wealth, we can use `pandas.DataFrame.hist`."
   ]
  },
  {
   "cell_type": "code",
   "execution_count": 7,
   "metadata": {},
   "outputs": [
    {
     "data": {
      "image/png": "[encoded data removed]",
      "text/plain": [
       "<Figure size 432x288 with 1 Axes>"
      ]
     },
     "metadata": {
      "needs_background": "light"
     },
     "output_type": "display_data"
    }
   ],
   "source": [
    "df = results.wealth_agent_vars\n",
    "ax = df.hist(bins=range(df.wealth.max()+1))"
   ]
  },
  {
   "cell_type": "markdown",
   "metadata": {},
   "source": [
    "To visualize the evolution of our Gini Coefficient, we can use  `pandas.DataFrame.plot`"
   ]
  },
  {
   "cell_type": "code",
   "execution_count": 8,
   "metadata": {},
   "outputs": [
    {
     "data": {
      "image/png": "[encoded data removed]",
      "text/plain": [
       "<Figure size 432x288 with 1 Axes>"
      ]
     },
     "metadata": {
      "needs_background": "light"
     },
     "output_type": "display_data"
    }
   ],
   "source": [
    "ax = results.model_vars.xs('model').plot()"
   ]
  }
 ],
 "metadata": {
  "kernelspec": {
   "display_name": "Python 3",
   "language": "python",
   "name": "python3"
  },
  "language_info": {
   "codemirror_mode": {
    "name": "ipython",
    "version": 3
   },
   "file_extension": ".py",
   "mimetype": "text/x-python",
   "name": "python",
   "nbconvert_exporter": "python",
   "pygments_lexer": "ipython3",
   "version": "3.7.7"
  }
 },
 "nbformat": 4,
 "nbformat_minor": 4
}

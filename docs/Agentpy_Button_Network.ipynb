{
 "cells": [
  {
   "cell_type": "markdown",
   "metadata": {},
   "source": [
    "# Button Network\n",
    "\n",
    "This is a demonstration on how to create a model of randomly connecting buttons with the [agentpy](https://agentpy.readthedocs.io) package. It shows how to work with networks and how to visualize averaged time-series for discrete parameter samples. \n",
    "\n",
    "A similar model has been built by Wybo Wiersma in [Agentbase](http://agentbase.org/model.html?f4c4388138450bdf9732), allowing for a comparison between the two frameworks. The idea for the model is based on the following analogy from [Stuart Kauffman](http://www.pbs.org/lifebeyondearth/resources/intkauffmanpop.html): \n",
    "\n",
    "> \"Suppose you take 10,000 buttons and spread them out on a hardwood floor. You have a large spool of red thread. Now, what you do is you pick up a random pair of buttons and you tie them together with a piece of red thread. Put them down and pick up another random pair of buttons and tie them together with a red thread, and you just keep doing this. Every now and then lift up a button and see how many buttons you've lifted with your first button. A connective cluster of buttons is called a cluster or a component. When you have 10,000 buttons and only a few threads that tie them together, most of the times you'd pick up a button you'll pick up a single button. \n",
    ">\n",
    ">As the ratio of threads to buttons increases, you're going to start to get larger clusters, three or four buttons tied together; then larger and larger clusters. At some point, you will have a number of intermediate clusters, and when you add a few more threads, you'll have linked up the intermediate-sized clusters into one giant cluster.\n",
    ">\n",
    ">So that if you plot on an axis, the ratio of threads to buttons: 10,000 buttons and no threads; 10,000 buttons and 5,000 threads; and so on, you'll get a curve that is flat, and then all of a sudden it shoots up when you get this giant cluster. This steep curve is in fact evidence of a phase transition.\n",
    ">\n",
    ">If there were an infinite number of threads and an infinite number of buttons and one just tuned the ratios, this would be a step function; it would come up in a sudden jump. So it's a phase transition like ice freezing.\n",
    ">\n",
    ">Now, the image you should take away from this is if you connect enough buttons all of a sudden they all go connected. To think about the origin of life, we have to think about the same thing.\""
   ]
  },
  {
   "cell_type": "code",
   "execution_count": 1,
   "metadata": {},
   "outputs": [],
   "source": [
    "# Import libraries\n",
    "\n",
    "import agentpy as ap\n",
    "import networkx as nx\n",
    "import seaborn as sns\n",
    "import random"
   ]
  },
  {
   "cell_type": "code",
   "execution_count": 2,
   "metadata": {},
   "outputs": [],
   "source": [
    "# Define the model\n",
    "\n",
    "class button_model(ap.Model):\n",
    "    \n",
    "    def setup(self):\n",
    "        \n",
    "        # Create a graph with n agents\n",
    "        self.add_network('buttons')\n",
    "        self.buttons.add_agents(self.p.n)\n",
    "        self.threads = 0\n",
    "        \n",
    "    def update(self):\n",
    "        \n",
    "        # Record size of the biggest cluster\n",
    "        clusters = nx.connected_components(self.buttons.graph)\n",
    "        max_cluster_size = max([len(g) for g in clusters]) / self.p.n\n",
    "        self.record('max_cluster_size', max_cluster_size)\n",
    "        \n",
    "        # Record threads to button ratio\n",
    "        self.record('threads_to_button', self.threads / self.p.n)\n",
    " \n",
    "    def step(self):\n",
    "        \n",
    "        # Create random edges based on parameters\n",
    "        for _ in range(int(self.p.n * self.p.speed)):  \n",
    "            self.buttons.add_edge(*self.agents.random(2))\n",
    "            self.threads += 1         "
   ]
  },
  {
   "cell_type": "code",
   "execution_count": 3,
   "metadata": {},
   "outputs": [],
   "source": [
    "# Define parameter ranges\n",
    "\n",
    "parameter_ranges = {\n",
    "    'steps': 30,  # Number of simulation steps\n",
    "    'speed': 0.05,  # Speed of connections per step\n",
    "    'n': (10,100,500,1000,10000)  # Number of agents, given in a discrete range\n",
    "    }"
   ]
  },
  {
   "cell_type": "code",
   "execution_count": 4,
   "metadata": {},
   "outputs": [
    {
     "name": "stdout",
     "output_type": "stream",
     "text": [
      "Scheduled runs: 125\n",
      "Completed: 125, estimated time remaining: 0:00:00\n",
      "Run time: 0:00:34.747715\n",
      "Simulation finished\n"
     ]
    }
   ],
   "source": [
    "# Perform simulation\n",
    "\n",
    "sample = ap.sample_discrete(parameter_ranges) # Create sample for different values of n\n",
    "exp = ap.Experiment(button_model, sample, iterations = 25, record = True) # Keep dynamic variables\n",
    "results = exp.run() # Perform 125 seperate simulations ( 5 parameter combinations * 25 repetitions )"
   ]
  },
  {
   "cell_type": "code",
   "execution_count": 5,
   "metadata": {},
   "outputs": [
    {
     "data": {
      "image/png": "[encoded data removed]",
      "text/plain": [
       "<Figure size 432x288 with 1 Axes>"
      ]
     },
     "metadata": {
      "needs_background": "light"
     },
     "output_type": "display_data"
    }
   ],
   "source": [
    "# Plot results\n",
    "\n",
    "data = results.arrange(('variables', 'parameters')) # Create plotting data\n",
    "ax = sns.lineplot(data=data, x='threads_to_button', y='max_cluster_size', hue='n')"
   ]
  },
  {
   "cell_type": "markdown",
   "metadata": {},
   "source": [
    "We can see that, in line with Kauffman's argumentation, the variable stays low and then shoots up quite suddenly at a treshold of 0.5 if the number of buttons is high. However, in contrast to Kauffman's claim, the function does not converge towards a step function as the steepness of the curve declines later on independent of the number of buttons."
   ]
  }
 ],
 "metadata": {
  "kernelspec": {
   "display_name": "Python 3",
   "language": "python",
   "name": "python3"
  },
  "language_info": {
   "codemirror_mode": {
    "name": "ipython",
    "version": 3
   },
   "file_extension": ".py",
   "mimetype": "text/x-python",
   "name": "python",
   "nbconvert_exporter": "python",
   "pygments_lexer": "ipython3",
   "version": "3.7.7"
  }
 },
 "nbformat": 4,
 "nbformat_minor": 4
}

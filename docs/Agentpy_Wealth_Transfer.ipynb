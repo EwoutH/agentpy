{
 "cells": [
  {
   "cell_type": "markdown",
   "metadata": {},
   "source": [
    "# Wealth Transfer"
   ]
  },
  {
   "cell_type": "markdown",
   "metadata": {},
   "source": [
    "This is a demonstration on how to create a simple agent-based model with the [agentpy](https://agentpy.readthedocs.io) package. \n",
    "It shows how to create a custom agent and model class, run a model, and visualize output data.\n",
    "\n",
    "The model explores the distribution of wealth under a trading population of agents. We will see that their random interaction will create an inequality of wealth that follows a [Boltzmann distribution](http://www.phys.ufl.edu/~meisel/Boltzmann.pdf).\n",
    "\n",
    "The original version of this model been written in [MESA](https://mesa.readthedocs.io/) (Project Mesa Team, 2016), and can be found [here](https://mesa.readthedocs.io/en/master/tutorials/intro_tutorial.html). This adaption of the same model for agentpy is meant to provide a comparison between the two frameworks."
   ]
  },
  {
   "cell_type": "raw",
   "metadata": {
    "raw_mimetype": "text/restructuredtext"
   },
   "source": [
    "To start, we import agentpy and numpy:"
   ]
  },
  {
   "cell_type": "code",
   "execution_count": 1,
   "metadata": {},
   "outputs": [],
   "source": [
    "import agentpy as ap\n",
    "import numpy as np"
   ]
  },
  {
   "cell_type": "raw",
   "metadata": {
    "raw_mimetype": "text/restructuredtext"
   },
   "source": [
    "We then define a new agent type ``wealth_agent`` as a subclass of :class:`Agent`. Each agent starts with one unit of  `wealth`. When `wealth_transfer()` is called, the agent selects another agent at random and gives them one unit of their own wealth if they have one to spare."
   ]
  },
  {
   "cell_type": "code",
   "execution_count": 2,
   "metadata": {},
   "outputs": [],
   "source": [
    "class wealth_agent(ap.Agent):\n",
    "    \n",
    "    \"\"\" An agent with wealth \"\"\"\n",
    "    \n",
    "    def setup(self):\n",
    "\n",
    "        self.wealth = 1\n",
    "\n",
    "    def wealth_transfer(self):\n",
    "        \n",
    "        if self.wealth > 0:\n",
    "            \n",
    "            partner = self.model.agents.random()\n",
    "            partner.wealth += 1\n",
    "            self.wealth -= 1   "
   ]
  },
  {
   "cell_type": "raw",
   "metadata": {
    "raw_mimetype": "text/restructuredtext"
   },
   "source": [
    "Next, we define a method to calculate the Gini Coefficient, which will measure the inequality among our agents."
   ]
  },
  {
   "cell_type": "code",
   "execution_count": 3,
   "metadata": {},
   "outputs": [],
   "source": [
    "def gini(x):\n",
    "    \n",
    "    \"\"\" Calculate Gini Coefficient \"\"\"\n",
    "    # By Warren Weckesser https://stackoverflow.com/a/39513799\n",
    "    \n",
    "    mad = np.abs(np.subtract.outer(x, x)).mean() # Mean absolute difference\n",
    "    rmad = mad/np.mean(x) # Relative mean absolute difference\n",
    "    return 0.5 * rmad "
   ]
  },
  {
   "cell_type": "raw",
   "metadata": {
    "raw_mimetype": "text/restructuredtext"
   },
   "source": [
    "Finally, we define our model as a subclass of :class:`Model`. In :func:`Model.setup`, we define how many agents should be created at the beginning of the simulation. In :func:`Model.step`, we define that at every time-step all agents will perform the action `wealth_transfer`. In :func:`Model.update`, we calculate and record the current Gini Coefficient`. And in :func:`Model.end`, we further record the wealth of each agent."
   ]
  },
  {
   "cell_type": "code",
   "execution_count": 4,
   "metadata": {},
   "outputs": [],
   "source": [
    "class wealth_model(ap.Model):\n",
    "    \n",
    "    \"\"\" A simple model of random wealth transfers \"\"\"\n",
    "    \n",
    "    def setup(self):\n",
    "        \n",
    "        self.add_agents(self.p.agents, wealth_agent)\n",
    "    \n",
    "    def step(self):\n",
    "        \n",
    "        self.agents.wealth_transfer()\n",
    "        \n",
    "    def update(self):\n",
    "        \n",
    "        self.record('Gini Coefficient', gini(self.agents.wealth))\n",
    "        \n",
    "    def end(self):\n",
    "        \n",
    "        self.agents.record('wealth')"
   ]
  },
  {
   "cell_type": "raw",
   "metadata": {
    "raw_mimetype": "text/restructuredtext"
   },
   "source": [
    "To run a simulation, we define a dictionary of parameters that defines the number of agents and the number of steps that the model will run."
   ]
  },
  {
   "cell_type": "code",
   "execution_count": 5,
   "metadata": {},
   "outputs": [],
   "source": [
    "parameters = {\n",
    "    'agents': 100,\n",
    "    'steps': 100\n",
    "}"
   ]
  },
  {
   "cell_type": "raw",
   "metadata": {
    "raw_mimetype": "text/restructuredtext"
   },
   "source": [
    "To perform a simulation, we initialize our model with these parameters and call the method :class:`Model.run`, which returns a :class:`DataDict` of our recorded variables and measures."
   ]
  },
  {
   "cell_type": "code",
   "execution_count": 6,
   "metadata": {},
   "outputs": [
    {
     "name": "stdout",
     "output_type": "stream",
     "text": [
      "Completed: 100 steps\n",
      "Run time: 0:00:00.292833\n",
      "Simulation finished\n"
     ]
    }
   ],
   "source": [
    "model = wealth_model(parameters)\n",
    "results = model.run()"
   ]
  },
  {
   "cell_type": "raw",
   "metadata": {
    "raw_mimetype": "text/restructuredtext"
   },
   "source": [
    "To visualize the evolution of our Gini Coefficient, we can use :meth:`pandas.DataFrame.plot`."
   ]
  },
  {
   "cell_type": "code",
   "execution_count": 7,
   "metadata": {},
   "outputs": [
    {
     "data": {
      "image/png": "[encoded data removed]",
      "text/plain": [
       "<Figure size 432x288 with 1 Axes>"
      ]
     },
     "metadata": {
      "needs_background": "light"
     },
     "output_type": "display_data"
    }
   ],
   "source": [
    "data = results.variables.model\n",
    "ax = data.xs('model').plot()"
   ]
  },
  {
   "cell_type": "raw",
   "metadata": {
    "raw_mimetype": "text/restructuredtext"
   },
   "source": [
    "And to visualize the final distribution of wealth, we can use :meth:`pandas.DataFrame.hist`."
   ]
  },
  {
   "cell_type": "code",
   "execution_count": 8,
   "metadata": {},
   "outputs": [
    {
     "data": {
      "image/png": "[encoded data removed]",
      "text/plain": [
       "<Figure size 432x288 with 1 Axes>"
      ]
     },
     "metadata": {
      "needs_background": "light"
     },
     "output_type": "display_data"
    }
   ],
   "source": [
    "data = results.variables.wealth_agent\n",
    "ax = data.hist(bins=range(data.wealth.max()+1))"
   ]
  },
  {
   "cell_type": "markdown",
   "metadata": {
    "raw_mimetype": "text/restructuredtext"
   },
   "source": [
    "What we get is a Boltzmann distribution. For those interested to understand this result, you can read more about it [here](http://www.phys.ufl.edu/~meisel/Boltzmann.pdf)."
   ]
  },
  {
   "cell_type": "markdown",
   "metadata": {},
   "source": [
    "## References\n",
    "\n",
    "Project Mesa Team (2016). Introductory Tutorial (Revision 25205080). Retrieved from https://mesa.readthedocs.io/en/master/tutorials/intro_tutorial.html"
   ]
  }
 ],
 "metadata": {
  "kernelspec": {
   "display_name": "Python 3",
   "language": "python",
   "name": "python3"
  },
  "language_info": {
   "codemirror_mode": {
    "name": "ipython",
    "version": 3
   },
   "file_extension": ".py",
   "mimetype": "text/x-python",
   "name": "python",
   "nbconvert_exporter": "python",
   "pygments_lexer": "ipython3",
   "version": "3.7.7"
  }
 },
 "nbformat": 4,
 "nbformat_minor": 4
}
